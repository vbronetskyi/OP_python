{
 "cells": [
  {
   "attachments": {},
   "cell_type": "markdown",
   "metadata": {},
   "source": [
    "У парадигмі ООП дані та функції об'єднуються в \"об'єкти\".\n",
    "\n",
    "Прикладом може слугувати список у Python, який не лише зберігає дані, але й вміє сортувати себе тощо."
   ]
  },
  {
   "attachments": {},
   "cell_type": "markdown",
   "metadata": {},
   "source": [
    "# Обʼєкти\n",
    "\n",
    "У Python *все є об'єктом*. Для того, щоб визначити тип обʼєкту ми можемо скористатися <code>type()</code> для перевірки:\n",
    "\n"
   ]
  },
  {
   "cell_type": "code",
   "execution_count": 22,
   "metadata": {},
   "outputs": [
    {
     "name": "stdout",
     "output_type": "stream",
     "text": [
      "<class 'int'>\n",
      "<class 'list'>\n",
      "<class 'tuple'>\n",
      "<class 'dict'>\n",
      "<class 'builtin_function_or_method'>\n"
     ]
    }
   ],
   "source": [
    "print(type(1))\n",
    "print(type([]))\n",
    "print(type(()))\n",
    "print(type({}))\n",
    "print(type(abs))"
   ]
  },
  {
   "attachments": {},
   "cell_type": "markdown",
   "metadata": {},
   "source": [
    "Питання полягає в тому як створювати власні типи обʼєктів? Це саме той момент, коли ми маємо познайомитися з <code>class</code>.\n",
    "\n",
    "## Class\n"
   ]
  },
  {
   "attachments": {},
   "cell_type": "markdown",
   "metadata": {},
   "source": [
    "Ми можемо створювати об'єкти за допомогою ключового слова <code>class</code>. \n",
    "\n",
    "Клас - це креслення (blueprint), яке визначає природу майбутнього об'єкта. Він описує\n",
    "\n",
    "- Які дані зберігає клас  \n",
    "- Які методи він має для роботи з цими даними\n",
    "\n",
    "З класів ми можемо створювати екземпляри (instances). Екземпляр - це конкретний об'єкт, створений з конкретного класу. \n",
    "\n",
    "Наприклад, ми можемо створити об'єкт <code>lst</code>, який буде екземпляром об'єкта <code>list</code>: "
   ]
  },
  {
   "cell_type": "code",
   "execution_count": 23,
   "metadata": {},
   "outputs": [
    {
     "name": "stdout",
     "output_type": "stream",
     "text": [
      "True\n",
      "<class 'list'>\n"
     ]
    },
    {
     "data": {
      "text/plain": [
       "[1, 2, 3]"
      ]
     },
     "execution_count": 23,
     "metadata": {},
     "output_type": "execute_result"
    }
   ],
   "source": [
    "lst = [1, 2, 3]\n",
    "print(isinstance(lst, object))\n",
    "print(type(lst))\n",
    "lst"
   ]
  },
  {
   "attachments": {},
   "cell_type": "markdown",
   "metadata": {},
   "source": [
    "Тепер подивимося як ми можемо створити свої власні класи:"
   ]
  },
  {
   "cell_type": "code",
   "execution_count": 55,
   "metadata": {},
   "outputs": [
    {
     "name": "stdout",
     "output_type": "stream",
     "text": [
      "<class '__main__.Sample'>\n"
     ]
    }
   ],
   "source": [
    "# Create a new object type called Sample\n",
    "class Sample:\n",
    "    pass\n",
    "\n",
    "# Instance of Sample\n",
    "x = Sample()\n",
    "\n",
    "print(type(x))"
   ]
  },
  {
   "attachments": {},
   "cell_type": "markdown",
   "metadata": {},
   "source": [
    "За домовленістю ми даємо назву класу у форматі CamelCase. <code>x</code> тепер є посиланням на наш новий екземпляр класу Sample. Іншими словами, ми створюємо екземпляр класу Sample.\n",
    "\n",
    "Усередині класу у нас наразі є тільки pass. Але ми можемо визначати атрибути та методи класу.\n",
    "\n",
    "**Атрибут** - це характеристика об'єкта.\n",
    "\n",
    "**Метод** - це операція, яку ми можемо виконати з об'єктом.\n",
    "\n",
    "Наприклад, ми можемо створити клас з назвою Dog. Атрибутом собаки може бути її порода або ім'я, а методом собаки може бути метод <code>.bark()</code>, який повертає звук.\n",
    "\n",
    "Давайте детальніше з цим розберемося.\n",
    "\n",
    "## Атрибути\n",
    "\n",
    "Синтаксис створення атрибутів наступний:\n",
    "\n",
    "    self.attribute = something\n",
    "\n",
    "Також є спеціальний метод:\n",
    "\n",
    "    __init()__\n",
    "\n",
    "Цей метод використовується для ініціалізації атрибутів об'єкту. "
   ]
  },
  {
   "cell_type": "code",
   "execution_count": 56,
   "metadata": {},
   "outputs": [],
   "source": [
    "class Dog:\n",
    "    def __init__(self,breed):\n",
    "        self.breed = breed\n",
    "        \n",
    "sam = Dog(breed='Lab')\n",
    "frank = Dog(breed='Huskie')"
   ]
  },
  {
   "attachments": {},
   "cell_type": "markdown",
   "metadata": {},
   "source": [
    "Давайте розберемося, що відбувається в попередній комірці. Спеціальний метод\n",
    "\n",
    "    __init__() \n",
    "\n",
    "викликається автоматично, коли створюється обʼєкт:\n",
    "\n",
    "    def __init__(self, breed):ʼ\n",
    "\n",
    "Кожен атрибут у визначенні класу починається з посилання на екземпляр обʼєкту. За домовленістю його назва <code>self</code>. Порода <code>breed</code> є аргументом. Значення передається в момент створення екземпляру класу\n",
    "\n",
    "     self.breed = breed"
   ]
  },
  {
   "attachments": {},
   "cell_type": "markdown",
   "metadata": {},
   "source": [
    "\n",
    "Правила для `self` наступні\n",
    "\n",
    "- Будь-які дані екземпляру повинні починатися з `self`.  \n",
    "  \n",
    "- Будь-який метод, визначений у класі, повинен мати `self` як перший аргумент    \n",
    "  \n",
    "- Будь-який метод, на який є посилання в класі, має бути викликаний як `self.method_name`."
   ]
  },
  {
   "attachments": {},
   "cell_type": "markdown",
   "metadata": {},
   "source": [
    "Тепер ми створили два екземпляри класу Dog. Маючи два типи порід, ми можемо отримати доступ до цих атрибутів таким чином:"
   ]
  },
  {
   "cell_type": "code",
   "execution_count": 57,
   "metadata": {},
   "outputs": [
    {
     "name": "stdout",
     "output_type": "stream",
     "text": [
      "Lab\n",
      "Huskie\n"
     ]
    }
   ],
   "source": [
    "print(sam.breed)\n",
    "print(frank.breed)"
   ]
  },
  {
   "attachments": {},
   "cell_type": "markdown",
   "metadata": {},
   "source": [
    "Зверніть увагу, що у нас немає круглих дужок після <code>breed</code>; це тому, що це атрибут і він не приймає жодних аргументів."
   ]
  },
  {
   "attachments": {},
   "cell_type": "markdown",
   "metadata": {},
   "source": [
    "У Python також існують *атрибути об'єктів класу*. Ці атрибути об'єктів класу є однаковими для будь-якого екземпляра класу. Наприклад, ми можемо створити атрибут <code>species</code> для класу Dog. Собаки, незалежно від їхньої породи, назви чи інших атрибутів, завжди будуть ссавцями. Ми застосовуємо цю логіку наступним чином:"
   ]
  },
  {
   "cell_type": "code",
   "execution_count": 58,
   "metadata": {},
   "outputs": [],
   "source": [
    "class Dog:\n",
    "    \n",
    "    # Class Object Attribute\n",
    "    species = 'mammal'\n",
    "    \n",
    "    def __init__(self,breed,name):\n",
    "        self.breed = breed\n",
    "        self.name = name"
   ]
  },
  {
   "cell_type": "code",
   "execution_count": 59,
   "metadata": {},
   "outputs": [
    {
     "name": "stdout",
     "output_type": "stream",
     "text": [
      "Lab\n",
      "Sam\n",
      "mammal\n"
     ]
    }
   ],
   "source": [
    "sam = Dog('Lab','Sam')\n",
    "print(sam.breed)\n",
    "print(sam.name)\n",
    "print(sam.species)"
   ]
  },
  {
   "cell_type": "code",
   "execution_count": 60,
   "metadata": {},
   "outputs": [
    {
     "data": {
      "text/plain": [
       "{'breed': 'Lab', 'name': 'Sam'}"
      ]
     },
     "execution_count": 60,
     "metadata": {},
     "output_type": "execute_result"
    }
   ],
   "source": [
    "sam.__dict__"
   ]
  },
  {
   "attachments": {},
   "cell_type": "markdown",
   "metadata": {},
   "source": [
    "## Методи\n",
    "\n",
    "Методи - це функції, визначені всередині тіла класу. Вони використовуються для виконання операцій з атрибутами наших об'єктів. Методи є ключовим поняттям парадигми ООП. Вони необхідні для розподілу обов'язків у програмуванні, особливо у великих додатках.\n",
    "\n",
    "В принципі, ви можете думати про методи як про функції, що діють на об'єкт, які беруть до уваги сам об'єкт через аргумент <code>self</code>.\n",
    "\n",
    "Давайте розглянемо приклад створення класу Circle:"
   ]
  },
  {
   "cell_type": "code",
   "execution_count": null,
   "metadata": {},
   "outputs": [],
   "source": [
    "class Circle:\n",
    "    pi = 3.14\n",
    "\n",
    "    # Circle gets instantiated with a radius (default is 1)\n",
    "    def __init__(self, radius=1):\n",
    "        self.radius = radius \n",
    "        self.area = radius * radius * Circle.pi\n",
    "\n",
    "    # Method for resetting Radius\n",
    "    def setRadius(self, new_radius):\n",
    "        self.radius = new_radius\n",
    "        self.area = new_radius * new_radius * self.pi\n",
    "\n",
    "    # Method for getting Circumference\n",
    "    def getCircumference(self):\n",
    "        return self.radius * self.pi * 2\n",
    "\n",
    "\n",
    "c = Circle()\n",
    "\n",
    "print('Radius is: ',c.radius)\n",
    "print('Area is: ',c.area)\n",
    "print('Circumference is: ',c.getCircumference())"
   ]
  },
  {
   "attachments": {},
   "cell_type": "markdown",
   "metadata": {},
   "source": [
    "У методі <code>__init__</code> вище, щоб обчислити атрибут площі, ми повинні були викликати  <code>Circle.pi</code>. Це пов'язано з тим, що об'єкт ще не має власного атрибуту <code>.pi</code>, тому замість нього ми викликаємо атрибут об'єкта класу <code>pi</code>.\n",
    "\n",
    "Однак у методі <code>setRadius</code> ми будемо працювати з існуючим об'єктом <code>Circle</code>, який має власний атрибут <code>pi</code>. Тут ми можемо використовувати або <code>Circle.pi</code>, або <code>self.pi</code>.\n",
    "\n",
    "Тепер давайте змінимо радіус і подивимося, як це вплине на наш об'єкт <code>Circle</code>:"
   ]
  },
  {
   "cell_type": "code",
   "execution_count": null,
   "metadata": {},
   "outputs": [],
   "source": [
    "c.setRadius(2)\n",
    "\n",
    "print('Radius is: ',c.radius)\n",
    "print('Area is: ',c.area)\n",
    "print('Circumference is: ',c.getCircumference())"
   ]
  },
  {
   "attachments": {},
   "cell_type": "markdown",
   "metadata": {},
   "source": [
    "## Наслідування\n",
    "\n",
    "Унаслідування - це спосіб створення нових класів з використанням класів, які вже були визначені. Новостворені класи називаються похідними, а класи, від яких ми походимо, називаються базовими. Важливими перевагами успадкування є повторне використання коду та зменшення складності програми. Похідні класи (нащадки) перевизначають або розширюють функціональність базових класів (предків).\n",
    "\n",
    "Розглянемо приклад на прикладі нашої попередньої роботи над класом Dog:"
   ]
  },
  {
   "cell_type": "code",
   "execution_count": 1,
   "metadata": {},
   "outputs": [],
   "source": [
    "class Animal:\n",
    "    def __init__(self):\n",
    "        print(\"Animal created\")\n",
    "\n",
    "    def whoAmI(self):\n",
    "        print(\"Animal\")\n",
    "\n",
    "    def eat(self):\n",
    "        print(\"Eating\")\n",
    "\n",
    "\n",
    "class Dog(Animal):\n",
    "    def __init__(self):\n",
    "        Animal.__init__(self)\n",
    "        print(\"Dog created\")\n",
    "\n",
    "    def whoAmI(self):\n",
    "        print(\"Dog\")\n",
    "\n",
    "    def bark(self):\n",
    "        print(\"Woof!\")"
   ]
  },
  {
   "cell_type": "code",
   "execution_count": 2,
   "metadata": {},
   "outputs": [
    {
     "name": "stdout",
     "output_type": "stream",
     "text": [
      "Animal created\n",
      "Dog created\n"
     ]
    }
   ],
   "source": [
    "d = Dog()"
   ]
  },
  {
   "cell_type": "code",
   "execution_count": 3,
   "metadata": {},
   "outputs": [
    {
     "name": "stdout",
     "output_type": "stream",
     "text": [
      "Dog\n"
     ]
    }
   ],
   "source": [
    "d.whoAmI()"
   ]
  },
  {
   "cell_type": "code",
   "execution_count": 4,
   "metadata": {},
   "outputs": [
    {
     "name": "stdout",
     "output_type": "stream",
     "text": [
      "Eating\n"
     ]
    }
   ],
   "source": [
    "d.eat()"
   ]
  },
  {
   "cell_type": "code",
   "execution_count": 5,
   "metadata": {},
   "outputs": [
    {
     "name": "stdout",
     "output_type": "stream",
     "text": [
      "Woof!\n"
     ]
    }
   ],
   "source": [
    "d.bark()"
   ]
  },
  {
   "attachments": {},
   "cell_type": "markdown",
   "metadata": {},
   "source": [
    "У цьому прикладі ми маємо два класи: Animal та Dog. Тварина - це базовий клас, а собака - похідний клас. \n",
    "\n",
    "Похідний клас успадковує функціональність базового класу. \n",
    "\n",
    "* Це показано у методі  <code>eat()</code>. \n",
    "\n",
    "Похідний клас модифікує існуючу поведінку базового класу.\n",
    "\n",
    "* Показується методом <code>whoAmI()</code>. \n",
    "\n",
    "Нарешті, похідний клас розширює функціональність базового класу, визначаючи новий метод <code>bark()</code>."
   ]
  },
  {
   "attachments": {},
   "cell_type": "markdown",
   "metadata": {},
   "source": [
    "## Спеціальні методи"
   ]
  },
  {
   "attachments": {},
   "cell_type": "markdown",
   "metadata": {},
   "source": [
    "Наостанок розглянемо спеціальні методи. Класи в Python можуть реалізовувати певні операції за допомогою спеціальних методів. Ці методи викликаються не безпосередньо, а за допомогою специфічного синтаксису мови Python. Наприклад, давайте створимо клас Book:"
   ]
  },
  {
   "cell_type": "code",
   "execution_count": 24,
   "metadata": {},
   "outputs": [
    {
     "name": "stdout",
     "output_type": "stream",
     "text": [
      "A book is created\n",
      "Title: Python Rocks!, author: Jose Portilla, pages: 159\n",
      "159\n",
      "A book is destroyed\n"
     ]
    }
   ],
   "source": [
    "class Book:\n",
    "    def __init__(self, title, author, pages):\n",
    "        print(\"A book is created\")\n",
    "        self.title = title\n",
    "        self.author = author\n",
    "        self.pages = pages\n",
    "\n",
    "    def __str__(self):\n",
    "        return \"Title: %s, author: %s, pages: %s\" %(self.title, self.author, self.pages)\n",
    "\n",
    "    def __len__(self):\n",
    "        return self.pages\n",
    "\n",
    "    def __del__(self):\n",
    "        print(\"A book is destroyed\")\n",
    "\n",
    "book = Book(\"Python Rocks!\", \"Jose Portilla\", 159)\n",
    "\n",
    "#Special Methods\n",
    "print(book)\n",
    "print(len(book))\n",
    "del book"
   ]
  },
  {
   "attachments": {},
   "cell_type": "markdown",
   "metadata": {},
   "source": [
    "    The __init__(), __str__(), __len__() and __del__() methods\n",
    "\n",
    "Ці спеціальні методи визначаються за допомогою підкреслень. Вони дозволяють нам використовувати специфічні функції Python для об'єктів, створених за допомогою нашого класу.\n",
    "\n",
    "**Чудово! Ви вже готові до власного дослідження!**"
   ]
  },
  {
   "attachments": {},
   "cell_type": "markdown",
   "metadata": {},
   "source": [
    "### Завдання 1\n",
    "\n",
    "Заповніть методи класу Line, щоб вони приймали координати у вигляді пари кортежів і повертали кутовий коефіцієнт та відстань лінії."
   ]
  },
  {
   "cell_type": "code",
   "execution_count": 4,
   "metadata": {},
   "outputs": [],
   "source": [
    "class Line:\n",
    "    \n",
    "    def __init__(self,coor1,coor2):\n",
    "        self.coord1 = coor1\n",
    "        self.coord2 = coor2\n",
    "    \n",
    "    def distance(self):\n",
    "        return ((self.coord1[0]-self.coord2[0])^2+(self.coord1[1]-self.coord2[1])^2)**0.5\n",
    "    \n",
    "    def slope(self):\n",
    "        return (self.coord2[1] - self.coord1[1])/(self.coord2[0] - self.coord1[0])"
   ]
  },
  {
   "cell_type": "code",
   "execution_count": 5,
   "metadata": {},
   "outputs": [],
   "source": [
    "# EXAMPLE OUTPUT\n",
    "\n",
    "coordinate1 = (3,2)\n",
    "coordinate2 = (8,10)\n",
    "\n",
    "li = Line(coordinate1,coordinate2)"
   ]
  },
  {
   "cell_type": "code",
   "execution_count": 6,
   "metadata": {},
   "outputs": [
    {
     "data": {
      "text/plain": [
       "1.7320508075688772"
      ]
     },
     "execution_count": 6,
     "metadata": {},
     "output_type": "execute_result"
    }
   ],
   "source": [
    "li.distance()"
   ]
  },
  {
   "cell_type": "code",
   "execution_count": 7,
   "metadata": {},
   "outputs": [
    {
     "data": {
      "text/plain": [
       "1.6"
      ]
     },
     "execution_count": 7,
     "metadata": {},
     "output_type": "execute_result"
    }
   ],
   "source": [
    "li.slope()"
   ]
  },
  {
   "attachments": {},
   "cell_type": "markdown",
   "metadata": {},
   "source": [
    "### Завдання 2\n",
    "\n",
    "Напишіть відповідний код"
   ]
  },
  {
   "cell_type": "code",
   "execution_count": 8,
   "metadata": {},
   "outputs": [],
   "source": [
    "class Cylinder:\n",
    "    pi = 3.14\n",
    "    \n",
    "    def __init__(self,height=1,radius=1):\n",
    "        self.height = height\n",
    "        self.radius = radius\n",
    "\n",
    "        \n",
    "    def volume(self):\n",
    "        return Cylinder.pi * (self.radius**2)*self.height\n",
    "    \n",
    "    def surface_area(self):\n",
    "        return Cylinder.pi * 2 * self.radius * (self.height +self.radius)"
   ]
  },
  {
   "cell_type": "code",
   "execution_count": 9,
   "metadata": {},
   "outputs": [],
   "source": [
    "# EXAMPLE OUTPUT\n",
    "c = Cylinder(2,3)"
   ]
  },
  {
   "cell_type": "code",
   "execution_count": 10,
   "metadata": {},
   "outputs": [
    {
     "data": {
      "text/plain": [
       "56.52"
      ]
     },
     "execution_count": 10,
     "metadata": {},
     "output_type": "execute_result"
    }
   ],
   "source": [
    "c.volume()"
   ]
  },
  {
   "cell_type": "code",
   "execution_count": 11,
   "metadata": {},
   "outputs": [
    {
     "data": {
      "text/plain": [
       "94.2"
      ]
     },
     "execution_count": 11,
     "metadata": {},
     "output_type": "execute_result"
    }
   ],
   "source": [
    "c.surface_area()"
   ]
  },
  {
   "attachments": {},
   "cell_type": "markdown",
   "metadata": {},
   "source": [
    "## Challenge\n",
    "\n",
    "Для цієї задачі створіть клас банківського рахунку, який має два атрибути:\n",
    "\n",
    "* owner\n",
    "* balance\n",
    "\n",
    "та два методи:\n",
    "\n",
    "* deposit\n",
    "* withdraw\n",
    "\n",
    "Додатковою вимогою є те, що сума зняття коштів не може перевищувати доступного балансу.\n",
    "\n",
    "Створіть свій клас, зробіть кілька поповнень і виведень, а також перевірте, чи не можна перевищити ліміт рахунку."
   ]
  },
  {
   "cell_type": "code",
   "execution_count": 14,
   "metadata": {},
   "outputs": [],
   "source": [
    "class Account:\n",
    "    def __init__(self,owner,balance):\n",
    "        self.owner = owner\n",
    "        self.balance = balance\n",
    "    def __str__(self):\n",
    "        return f'Acount:{self.owner},\\nbalance:{self.balance}'\n",
    "    def deposit(self, value):\n",
    "        self.balance+=value\n",
    "        return \"Deposit Accepted\"\n",
    "    def withdraw(self, value):\n",
    "        if value> self.balance:\n",
    "            return \"Funds unvaileble\"\n",
    "        self.balance-=value\n",
    "        return \"Withdrawal Accepted\""
   ]
  },
  {
   "cell_type": "code",
   "execution_count": 15,
   "metadata": {},
   "outputs": [],
   "source": [
    "# 1. Instantiate the class\n",
    "acct1 = Account('Jose',100)"
   ]
  },
  {
   "cell_type": "code",
   "execution_count": 16,
   "metadata": {},
   "outputs": [
    {
     "name": "stdout",
     "output_type": "stream",
     "text": [
      "Acount:Jose,\n",
      "balance:100\n"
     ]
    }
   ],
   "source": [
    "# 2. Print the object\n",
    "print(acct1)"
   ]
  },
  {
   "cell_type": "code",
   "execution_count": 17,
   "metadata": {},
   "outputs": [
    {
     "data": {
      "text/plain": [
       "'Jose'"
      ]
     },
     "execution_count": 17,
     "metadata": {},
     "output_type": "execute_result"
    }
   ],
   "source": [
    "# 3. Show the account owner attribute\n",
    "acct1.owner"
   ]
  },
  {
   "cell_type": "code",
   "execution_count": 18,
   "metadata": {},
   "outputs": [
    {
     "data": {
      "text/plain": [
       "100"
      ]
     },
     "execution_count": 18,
     "metadata": {},
     "output_type": "execute_result"
    }
   ],
   "source": [
    "# 4. Show the account balance attribute\n",
    "acct1.balance"
   ]
  },
  {
   "cell_type": "code",
   "execution_count": 19,
   "metadata": {},
   "outputs": [
    {
     "data": {
      "text/plain": [
       "'Deposit Accepted'"
      ]
     },
     "execution_count": 19,
     "metadata": {},
     "output_type": "execute_result"
    }
   ],
   "source": [
    "# 5. Make a series of deposits and withdrawals\n",
    "acct1.deposit(50)"
   ]
  },
  {
   "cell_type": "code",
   "execution_count": 20,
   "metadata": {},
   "outputs": [
    {
     "data": {
      "text/plain": [
       "'Withdrawal Accepted'"
      ]
     },
     "execution_count": 20,
     "metadata": {},
     "output_type": "execute_result"
    }
   ],
   "source": [
    "acct1.withdraw(75)"
   ]
  },
  {
   "cell_type": "code",
   "execution_count": 21,
   "metadata": {},
   "outputs": [
    {
     "data": {
      "text/plain": [
       "'Funds unvaileble'"
      ]
     },
     "execution_count": 21,
     "metadata": {},
     "output_type": "execute_result"
    }
   ],
   "source": [
    "# 6. Make a withdrawal that exceeds the available balance\n",
    "acct1.withdraw(500)"
   ]
  }
 ],
 "metadata": {
  "kernelspec": {
   "display_name": "Python 3",
   "language": "python",
   "name": "python3"
  },
  "language_info": {
   "codemirror_mode": {
    "name": "ipython",
    "version": 3
   },
   "file_extension": ".py",
   "mimetype": "text/x-python",
   "name": "python",
   "nbconvert_exporter": "python",
   "pygments_lexer": "ipython3",
   "version": "3.10.5"
  },
  "orig_nbformat": 4,
  "vscode": {
   "interpreter": {
    "hash": "63963b3f4c440940f0b94a3100916033a226cb4f45979123153792d60aa56d6a"
   }
  }
 },
 "nbformat": 4,
 "nbformat_minor": 2
}
