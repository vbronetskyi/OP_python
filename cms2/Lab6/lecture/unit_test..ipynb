{
 "cells": [
  {
   "cell_type": "markdown",
   "metadata": {
    "collapsed": false
   },
   "source": [
    "# Основи модульного тестування та зневадження в Python"
   ]
  },
  {
   "attachments": {},
   "cell_type": "markdown",
   "metadata": {},
   "source": [
    "> **Ключова ідея модульного тестування** – писати короткі тести для малих шматків коду. \n",
    "> Якщо код не можна поділити на ці малі шматки придатні для тестування, то це сигнал до переосмислення проекту."
   ]
  },
  {
   "attachments": {},
   "cell_type": "markdown",
   "metadata": {},
   "source": [
    "Модульне тестування в Python здійснюється на основі вбудованої бібліотеки `unittest`, яка забезпечує загальний інтерфейс. "
   ]
  },
  {
   "attachments": {},
   "cell_type": "markdown",
   "metadata": {
    "collapsed": false
   },
   "source": [
    "Припустимо, вам потрібно протестувати свій проєкт. Ви знаєте, які дані поверне кожна ваша функція. Після написання величезного коду потрібно перевірити його правильність виводу. Як правило, ми робимо друк виводу і перевіряємо його вручну. Щоб зменшити цей біль, Python створив модуль `unittest`. За допомогою цього модуля можна перевірити виведення функції за допомогою якогось простого коду. У цьому уроці ми обговоримо про базове використання модуля Python `unittest` і напишемо деякі приклади тестування python unit для тестування функцій класу."
   ]
  },
  {
   "attachments": {},
   "cell_type": "markdown",
   "metadata": {
    "collapsed": false
   },
   "source": [
    "Перш за все, ми повинні написати код, щоб перевірити його. Розглянемо клас `Person`, який має методи `set_name`, `get_name`."
   ]
  },
  {
   "cell_type": "code",
   "execution_count": 1,
   "metadata": {
    "collapsed": false
   },
   "outputs": [],
   "source": [
    "class Person:\n",
    "    name = []\n",
    "\n",
    "    def set_name(self, user_name):\n",
    "        self.name.append(user_name)\n",
    "        return len(self.name) - 1\n",
    "\n",
    "    def get_name(self, user_id):\n",
    "        if user_id >= len(self.name):\n",
    "            return 'There is no such user'\n",
    "        else:\n",
    "            return self.name[user_id]"
   ]
  },
  {
   "cell_type": "markdown",
   "metadata": {
    "collapsed": false
   },
   "source": [
    "## Python unittest structure"
   ]
  },
  {
   "attachments": {},
   "cell_type": "markdown",
   "metadata": {},
   "source": [
    "Бібліотека `unittest` надає декілька інструментів для створення і запуску модульних тестів, найбільш важливим з яких є клас `TestCase`. Цей клас надає набір методів, які дозволяють порівнювати значення, налаштовувати тести, а також здійснювати дії по очистці (повернення системи в початковий стан), після завершення тестів."
   ]
  },
  {
   "attachments": {},
   "cell_type": "markdown",
   "metadata": {},
   "source": [
    "Для написання множини тестів потрібно створити підклас класу `TestCase` та написати окремі методи для здійснення тестування. Імена методів повинні починатися з символів `test`. Якщо ця умова дотримана, то тести будуть автоматично запускатися як частина процесу тестування. Зазвичай в тесті встановлюється певне значення для об'єкту, потім запускається метод, і, за допомогою вбудованих методів перевірки гарантується, що обчислені правильні результати."
   ]
  },
  {
   "attachments": {},
   "cell_type": "markdown",
   "metadata": {},
   "source": [
    "В класі можна написати стільки методів скільки потрібно і якщо їх імена будуть починатися з `test` то кожен з них буде виконуватися як окремий тест. Тести повинні бути незалежними між собою, результати виконання тестів і розрахунків в них не впливають ні на попередні ні на наступні тести."
   ]
  },
  {
   "cell_type": "code",
   "execution_count": 4,
   "metadata": {},
   "outputs": [
    {
     "name": "stderr",
     "output_type": "stream",
     "text": [
      "test_isupper (__main__.TestStringMethods.test_isupper) ... ok\n",
      "test_split (__main__.TestStringMethods.test_split) ... ok\n",
      "test_upper (__main__.TestStringMethods.test_upper) ... ok\n",
      "\n",
      "----------------------------------------------------------------------\n",
      "Ran 3 tests in 0.002s\n",
      "\n",
      "OK\n"
     ]
    }
   ],
   "source": [
    "import unittest\n",
    "\n",
    "class TestStringMethods(unittest.TestCase):\n",
    "\n",
    "    def test_upper(self):\n",
    "        self.assertEqual('foo'.upper(), 'FOO')\n",
    "\n",
    "    def test_isupper(self):\n",
    "        self.assertTrue('FOO'.isupper())\n",
    "        self.assertFalse('Foo'.isupper())\n",
    "\n",
    "    def test_split(self):\n",
    "        s = 'hello world'\n",
    "        self.assertEqual(s.split(), ['hello', 'world'])\n",
    "        # check that s.split fails when the separator is not a string\n",
    "        with self.assertRaises(TypeError):\n",
    "            s.split(2)\n",
    "\n",
    "if __name__ == '__main__':\n",
    "    unittest.main(argv=[''], verbosity=2, exit=False)"
   ]
  },
  {
   "attachments": {},
   "cell_type": "markdown",
   "metadata": {},
   "source": [
    "Давайте трохи проаналізуємо цей код.\n",
    "\n",
    "Тестовий кейс створюється підкласом `unittest.TestCase`. Три окремі тести `test_upper`,  `test_isupper`, `test_split` визначаються методами, імена яких починаються з літер `test`. Такий порядок іменування інформує виконавця тесту про те, які методи представляють тести.\n",
    "\n",
    "Суть кожного тесту полягає у виклику\n",
    "- `assertEqual()` для перевірки очікуваного результату; \n",
    "- `assertTrue()` або `assertFalse()` для перевірки умови; \n",
    "- або `assertRaises()` для перевірки генерування певного виключення. \n",
    "\n",
    "Ці методи використовуються замість інструкції `assert`, щоб програма виконання тесту могла зібрати всі результати тестування і створити звіт.\n",
    "\n",
    "Останній блок показує простий спосіб запуску тестів `unittest.main()`. Якщо наш файл має назву `my_module`, то в терміналі потрібно виконати наступну команду `python3 -m unittest my_module.Testing`"
   ]
  },
  {
   "attachments": {},
   "cell_type": "markdown",
   "metadata": {
    "collapsed": false
   },
   "source": [
    "Цей unittest має 3 можливі результати. Вони згадуються нижче:\n",
    "- `ok`: Якщо всі тестові випадки пройдені, результат показує OK.\n",
    "- `Failure`: Якщо будь-який з тестових випадків не пройшов і підняв виняток AssertionError\n",
    "- `Error`: Якщо будь-який виняток, крім AssertionError піднімається."
   ]
  },
  {
   "attachments": {},
   "cell_type": "markdown",
   "metadata": {
    "collapsed": false
   },
   "source": [
    "Клас `TestCas`e` надає декілька методів `assert` для перевірки та повідомлення про збої. У наступній таблиці перераховано найбільш часто використовувані методи:\n",
    "\n",
    "| Method            | Checks that |\n",
    "|-------------------|-----------|\n",
    "| assertEqual(a,b)  | a==b  |\n",
    "|assertNotEqual(a,b)|a != b|\n",
    "|assertTrue(x)|bool(x) is True|\n",
    "|assertFalse(x)|bool(x) is False|\n",
    "|assertIs(a,b)|a is b|\n",
    "|assertIsNot(a, b)|a is not b|\n",
    "|assertIsNone(x)|x is None|\n",
    "|assertIsNotNone(x)|x is not None|\n",
    "|assertIsInstance(a, b)|isinstance(a, b)|\n",
    "|assertNotIsInstance(a, b)|not isinstance(a, b)|\n"
   ]
  },
  {
   "cell_type": "markdown",
   "metadata": {
    "collapsed": false
   },
   "source": [
    "## Python unit test example (з використанням класу Person)"
   ]
  },
  {
   "cell_type": "code",
   "execution_count": 5,
   "metadata": {
    "collapsed": false
   },
   "outputs": [
    {
     "name": "stderr",
     "output_type": "stream",
     "text": [
      "test_0_set_name (__main__.Test.test_0_set_name) ... ok\n",
      "test_1_get_name (__main__.Test.test_1_get_name) ... ok\n",
      "test_isupper (__main__.TestStringMethods.test_isupper) ... ok\n",
      "test_split (__main__.TestStringMethods.test_split) ... ok\n",
      "test_upper (__main__.TestStringMethods.test_upper) ... ok\n",
      "\n",
      "----------------------------------------------------------------------\n",
      "Ran 5 tests in 0.003s\n",
      "\n",
      "OK\n"
     ]
    },
    {
     "name": "stdout",
     "output_type": "stream",
     "text": [
      "Start set_name test\n",
      "\n",
      "user_id length =  4\n",
      "[0, 1, 2, 3]\n",
      "user_name length =  4\n",
      "['name0', 'name1', 'name2', 'name3']\n",
      "\n",
      "Finish set_name test\n",
      "\n",
      "\n",
      "Start get_name test\n",
      "\n",
      "user_id length =  4\n",
      "user_name length =  4\n",
      "Testing for get_name no user test\n",
      "Testing for get_name no user test\n",
      "\n",
      "Finish get_name test\n",
      "\n"
     ]
    },
    {
     "data": {
      "text/plain": [
       "<unittest.main.TestProgram at 0x104528e90>"
      ]
     },
     "execution_count": 5,
     "metadata": {},
     "output_type": "execute_result"
    }
   ],
   "source": [
    "import unittest\n",
    "\n",
    "class Test(unittest.TestCase):\n",
    "    \"\"\"\n",
    "    The basic class that inherits unittest.TestCase\n",
    "    \"\"\"\n",
    "    person = Person()  # instantiate the Person Class\n",
    "    user_id = []  # variable that stores obtained user_id\n",
    "    user_name = []  # variable that stores person name\n",
    "\n",
    "    # test case function to check the Person.set_name function\n",
    "    def test_0_set_name(self):\n",
    "        print(\"Start set_name test\\n\")\n",
    "        \"\"\"\n",
    "        Any method which starts with ``test_`` will considered as a test case.\n",
    "        \"\"\"\n",
    "        for i in range(4):\n",
    "            # initialize a name\n",
    "            name = 'name' + str(i)\n",
    "            # store the name into the list variable\n",
    "            self.user_name.append(name)\n",
    "            # get the user id obtained from the function\n",
    "            user_id = self.person.set_name(name)\n",
    "            # check if the obtained user id is null or not\n",
    "            self.assertIsNotNone(user_id)  # null user id will fail the test\n",
    "            # store the user id to the list\n",
    "            self.user_id.append(user_id)\n",
    "        print(\"user_id length = \", len(self.user_id))\n",
    "        print(self.user_id)\n",
    "        print(\"user_name length = \", len(self.user_name))\n",
    "        print(self.user_name)\n",
    "        print(\"\\nFinish set_name test\\n\")\n",
    "\n",
    "    # test case function to check the Person.get_name function\n",
    "    def test_1_get_name(self):\n",
    "        print(\"\\nStart get_name test\\n\")\n",
    "        \"\"\"\n",
    "        Any method that starts with ``test_`` will be considered as a test case.\n",
    "        \"\"\"\n",
    "        length = len(self.user_id)  # total number of stored user information\n",
    "        print(\"user_id length = \", length)\n",
    "        print(\"user_name length = \", len(self.user_name))\n",
    "        for i in range(6):\n",
    "            # if i not exceed total length then verify the returned name\n",
    "            if i < length:\n",
    "                # if the two name not matches it will fail the test case\n",
    "                self.assertEqual(self.user_name[i], self.person.get_name(self.user_id[i]))\n",
    "            else:\n",
    "                print(\"Testing for get_name no user test\")\n",
    "                # if length exceeds then check the 'no such user' type message\n",
    "                self.assertEqual('There is no such user', self.person.get_name(i))\n",
    "        print(\"\\nFinish get_name test\\n\")\n",
    "\n",
    "unittest.main(argv=[''], verbosity=2, exit=False)"
   ]
  },
  {
   "cell_type": "markdown",
   "metadata": {
    "collapsed": false
   },
   "source": [
    "[Python testing in Visual Studio Code](https://code.visualstudio.com/docs/python/testing) тут ви можете більш детально познайомитися з базовою логікою модульного тестування"
   ]
  },
  {
   "cell_type": "markdown",
   "metadata": {
    "collapsed": false
   },
   "source": [
    "Приклад проходження тесту з наведеного вище \"Python testing in Visual Studio Code\""
   ]
  },
  {
   "cell_type": "code",
   "execution_count": 6,
   "metadata": {
    "collapsed": false
   },
   "outputs": [],
   "source": [
    "def increment(x):\n",
    "    return x + 1\n",
    "def decrement(x):\n",
    "    return x - 1\n"
   ]
  },
  {
   "cell_type": "code",
   "execution_count": 7,
   "metadata": {
    "collapsed": false
   },
   "outputs": [
    {
     "name": "stderr",
     "output_type": "stream",
     "text": [
      "test_0_set_name (__main__.Test.test_0_set_name) ... ok\n",
      "test_1_get_name (__main__.Test.test_1_get_name) ... ok\n",
      "test_decrement (__main__.TestNotebook.test_decrement) ... ok\n",
      "test_increment (__main__.TestNotebook.test_increment) ... ok\n",
      "test_isupper (__main__.TestStringMethods.test_isupper) ... ok\n",
      "test_split (__main__.TestStringMethods.test_split) ... ok\n",
      "test_upper (__main__.TestStringMethods.test_upper) ... ok\n",
      "\n",
      "----------------------------------------------------------------------\n",
      "Ran 7 tests in 0.004s\n",
      "\n",
      "OK\n"
     ]
    },
    {
     "name": "stdout",
     "output_type": "stream",
     "text": [
      "Start set_name test\n",
      "\n",
      "user_id length =  8\n",
      "[0, 1, 2, 3, 4, 5, 6, 7]\n",
      "user_name length =  8\n",
      "['name0', 'name1', 'name2', 'name3', 'name0', 'name1', 'name2', 'name3']\n",
      "\n",
      "Finish set_name test\n",
      "\n",
      "\n",
      "Start get_name test\n",
      "\n",
      "user_id length =  8\n",
      "user_name length =  8\n",
      "\n",
      "Finish get_name test\n",
      "\n"
     ]
    },
    {
     "data": {
      "text/plain": [
       "<unittest.main.TestProgram at 0x10451e590>"
      ]
     },
     "execution_count": 7,
     "metadata": {},
     "output_type": "execute_result"
    }
   ],
   "source": [
    "import unittest\n",
    "class TestNotebook(unittest.TestCase):\n",
    "    def test_increment(self):\n",
    "        self.assertEqual(increment(3), 4)\n",
    "\n",
    "    def test_decrement(self):\n",
    "        self.assertEqual(decrement(3), 2)\n",
    "unittest.main(argv=[''], verbosity=2, exit=False)"
   ]
  },
  {
   "attachments": {},
   "cell_type": "markdown",
   "metadata": {
    "collapsed": false
   },
   "source": [
    "Як бачите частина коду з використанням `unittest` перевіряє правильність виконання написаного коду. (На практиці розроблення, керованого тестуванням `test-driven development`, ви насправді спочатку пишете тести, а потім пишете код, щоб проходити все більше тестів, поки всі вони не пройдуть.)"
   ]
  },
  {
   "attachments": {},
   "cell_type": "markdown",
   "metadata": {
    "collapsed": false
   },
   "source": [
    "Також варто розглянути приклад, коли unit testing буде вказувати на помилки під час виконання написаного коду і це говорить що отриманий результат не відповідає очікуваному або даний функціонал ще не є імплементований. Наприклад, зараз навмисно зробимо помилку під час виконання `test_decrement`"
   ]
  },
  {
   "cell_type": "code",
   "execution_count": 8,
   "metadata": {
    "collapsed": false
   },
   "outputs": [
    {
     "name": "stderr",
     "output_type": "stream",
     "text": [
      "test_0_set_name (__main__.Test.test_0_set_name) ... ok\n",
      "test_1_get_name (__main__.Test.test_1_get_name) ... ok\n",
      "test_decrement (__main__.TestNotebook.test_decrement) ... FAIL\n",
      "test_increment (__main__.TestNotebook.test_increment) ... ok\n",
      "test_isupper (__main__.TestStringMethods.test_isupper) ... ok\n",
      "test_split (__main__.TestStringMethods.test_split) ... ok\n",
      "test_upper (__main__.TestStringMethods.test_upper) ... ok\n",
      "\n",
      "======================================================================\n",
      "FAIL: test_decrement (__main__.TestNotebook.test_decrement)\n",
      "----------------------------------------------------------------------\n",
      "Traceback (most recent call last):\n",
      "  File \"/var/folders/cz/wq9d8j_11fx3b8pjjbk7z8br0000gn/T/ipykernel_41524/2817977635.py\", line 7, in test_decrement\n",
      "    self.assertEqual(decrement(3), 4)\n",
      "AssertionError: 2 != 4\n",
      "\n",
      "----------------------------------------------------------------------\n",
      "Ran 7 tests in 0.004s\n",
      "\n",
      "FAILED (failures=1)\n"
     ]
    },
    {
     "name": "stdout",
     "output_type": "stream",
     "text": [
      "Start set_name test\n",
      "\n",
      "user_id length =  12\n",
      "[0, 1, 2, 3, 4, 5, 6, 7, 8, 9, 10, 11]\n",
      "user_name length =  12\n",
      "['name0', 'name1', 'name2', 'name3', 'name0', 'name1', 'name2', 'name3', 'name0', 'name1', 'name2', 'name3']\n",
      "\n",
      "Finish set_name test\n",
      "\n",
      "\n",
      "Start get_name test\n",
      "\n",
      "user_id length =  12\n",
      "user_name length =  12\n",
      "\n",
      "Finish get_name test\n",
      "\n"
     ]
    },
    {
     "data": {
      "text/plain": [
       "<unittest.main.TestProgram at 0x104547850>"
      ]
     },
     "execution_count": 8,
     "metadata": {},
     "output_type": "execute_result"
    }
   ],
   "source": [
    "import unittest\n",
    "class TestNotebook(unittest.TestCase):\n",
    "    def test_increment(self):\n",
    "        self.assertEqual(increment(3), 4)\n",
    "\n",
    "    def test_decrement(self):\n",
    "        self.assertEqual(decrement(3), 4)\n",
    "unittest.main(argv=[''], verbosity=2, exit=False)"
   ]
  },
  {
   "cell_type": "markdown",
   "metadata": {
    "collapsed": false
   },
   "source": [
    "Вище вказано в якому саме тесті відбувається помилка та показано яким є отриманий та очікуваний результат **(AssertionError: 2 != 4)**"
   ]
  },
  {
   "cell_type": "markdown",
   "metadata": {
    "collapsed": false
   },
   "source": [
    "Для зневадження програм використовується потужна програма зневаджувач. За\n",
    "наступними посиланнями можна знайти додаткову інформацію про зневадження в VS\n",
    "Code:\n",
    "- [Python debugging in VS Code](https://code.visualstudio.com/docs/python/debugging)\n",
    "- [Debugging](https://code.visualstudio.com/docs/editor/debugging)\n",
    "- [Короткий туторіал](https://code.visualstudio.com/docs/python/python-tutorial#_configure-and-run-the-debugger)"
   ]
  },
  {
   "cell_type": "markdown",
   "metadata": {
    "collapsed": false
   },
   "source": [
    "Детальний аналіз цих прикладів дає можливість зрозуміти, що розроблення тестів\n",
    "допомагає покращити структуру програми, побачити проблеми проектування програми\n",
    "та те що помилки можуть бути не тільки в коді програми. Модульні тести також можуть\n",
    "містити помилки і тоді зневадження програми стає ще складнішим завданням."
   ]
  },
  {
   "cell_type": "markdown",
   "metadata": {
    "collapsed": false
   },
   "source": [
    "Стратегії зневаджування:\n",
    "- [Debugging Strategies You Can Use on Every Project](https://spin.atomicobject.com/2018/08/01/debugging-strategies-tips/)\n",
    "- [Debugging Techniques](https://www.cs.cornell.edu/courses/cs312/2006fa/lectures/lec26.html)"
   ]
  },
  {
   "cell_type": "markdown",
   "metadata": {
    "collapsed": false
   },
   "source": [
    "# Python Custom Exceptions"
   ]
  },
  {
   "cell_type": "markdown",
   "metadata": {
    "collapsed": false
   },
   "source": [
    "Ось загальноприйнятий синтаксис для визначення власних винятків (не намагайтеся його проранити, розгляньте як структуру)"
   ]
  },
  {
   "cell_type": "code",
   "execution_count": 9,
   "metadata": {
    "collapsed": false
   },
   "outputs": [],
   "source": [
    "class MyOwnError(Exception):\n",
    "    ...\n",
    "    pass\n",
    "try:\n",
    "    ...\n",
    "except MyOwnError:\n",
    "    ..."
   ]
  },
  {
   "attachments": {},
   "cell_type": "markdown",
   "metadata": {
    "collapsed": false
   },
   "source": [
    "У Python ми можемо визначити власні винятки, створивши новий клас, який походить від вбудованого класу `Exception`.\n",
    "Коли ми розробляємо велику програму Python, це хороша практика, щоб розмістити всі визначені користувачем винятки, які наша програма піднімає в окремому файлі."
   ]
  },
  {
   "cell_type": "code",
   "execution_count": 10,
   "metadata": {
    "collapsed": false
   },
   "outputs": [
    {
     "name": "stdout",
     "output_type": "stream",
     "text": [
      "Exception occurred: Invalid Age\n"
     ]
    }
   ],
   "source": [
    "# define Python user-defined exceptions\n",
    "class InvalidAgeException(Exception):\n",
    "    \"Raised when the input value is less than 18\"\n",
    "    pass\n",
    "\n",
    "# you need to guess this number\n",
    "number = 18\n",
    "input_num = 17\n",
    "\n",
    "try:\n",
    "    if input_num < number:\n",
    "        raise InvalidAgeException\n",
    "    else:\n",
    "        print(\"Eligible to Vote\")\n",
    "except InvalidAgeException:\n",
    "    print(\"Exception occurred: Invalid Age\")"
   ]
  },
  {
   "attachments": {},
   "cell_type": "markdown",
   "metadata": {
    "collapsed": false
   },
   "source": [
    "Коли відбувається виняток, решта коду всередині блоку `try` пропускається.\n",
    "\n",
    "Крім блоку, використовується визначений користувачем виняток `InvalidAgeException` і виконуєтсья логіка опрацювання помилки всередині блоку.\n",
    "Приклад більш складного користувацького класу винятку наведений нижче"
   ]
  },
  {
   "cell_type": "code",
   "execution_count": 11,
   "metadata": {
    "collapsed": false
   },
   "outputs": [],
   "source": [
    "class SalaryNotInRangeError(Exception):\n",
    "    \"\"\"Exception raised for errors in the input salary.\n",
    "\n",
    "    Attributes:\n",
    "        salary -- input salary which caused the error\n",
    "        message -- explanation of the error\n",
    "    \"\"\"\n",
    "\n",
    "    def __init__(self, salary, message=\"Salary is not in (5000, 15000) range\"):\n",
    "        self.salary = salary\n",
    "        self.message = message\n",
    "        super().__init__(self.message)\n",
    "\n",
    "\n",
    "salary = int(input(\"Enter salary amount: \"))\n",
    "if not 5000 < salary < 15000:\n",
    "    raise SalaryNotInRangeError(salary)"
   ]
  },
  {
   "attachments": {},
   "cell_type": "markdown",
   "metadata": {
    "collapsed": false
   },
   "source": [
    "- Тут ми перевизначили конструктора класу `Exception`, щоб прийняти наші власні аргументи `salary` та `message`.\n",
    "- Тоді конструктор батьківського класу `Exception` викликається вручну з аргументом `self.message` аргументом використовуючи `super()`\n",
    "- Успадкований метод `__ str __` класу `Exception` потім використовується для відображення відповідного повідомлення при збудженні виключення `SalaryNotInRangeError`."
   ]
  },
  {
   "cell_type": "markdown",
   "metadata": {
    "collapsed": false
   },
   "source": [
    "Тобто за допомогою власних винятків ми може більш детально описати функціонал нашої програми та додати гнучкості."
   ]
  }
 ],
 "metadata": {
  "kernelspec": {
   "display_name": "Python 3",
   "language": "python",
   "name": "python3"
  },
  "language_info": {
   "codemirror_mode": {
    "name": "ipython",
    "version": 3
   },
   "file_extension": ".py",
   "mimetype": "text/x-python",
   "name": "python",
   "nbconvert_exporter": "python",
   "pygments_lexer": "ipython3",
   "version": "3.11.2"
  }
 },
 "nbformat": 4,
 "nbformat_minor": 0
}
