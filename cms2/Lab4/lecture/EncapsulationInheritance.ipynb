{
  "cells": [
    {
      "attachments": {},
      "cell_type": "markdown",
      "metadata": {
        "id": "nWp6dNlhOdkN"
      },
      "source": [
        "# Об'єктно орієнтовване програмування\n",
        "---\n",
        "Парадигма ООП містить у собі 4 ключові принципи:\n",
        "\n",
        "1. Інкапсуляція\n",
        "2. Успадкування\n",
        "3. Поліморфізм\n",
        "4. Абстракція\n",
        "\n",
        "У цьому ноутбуці розглянуто перші два з них."
      ]
    },
    {
      "attachments": {},
      "cell_type": "markdown",
      "metadata": {
        "id": "asbrk6jaWdMx"
      },
      "source": [
        "## Інкапсуляція\n",
        "\n",
        "Інкапсуляція - один з основних механізмів ООП, який забезпечує виконання наступного правила:\n",
        "> Доступ напряму до стану об'єкта **заборонений**. Маніпуляція об'єктом відбувається за допомогою спеціально розробленого інтерфейсу\n",
        "\n"
      ]
    },
    {
      "attachments": {},
      "cell_type": "markdown",
      "metadata": {
        "id": "7IeLal5ra6Id"
      },
      "source": [
        "#### Чому це важливо?\n",
        "Цей механізм забезпечує низку корисних властивостей, ось деякі з них:\n",
        "\n",
        " - Запобігання неправильного використання\n",
        " - Гнучкість реалізації\n",
        " - Конфіденційність даних"
      ]
    },
    {
      "attachments": {},
      "cell_type": "markdown",
      "metadata": {
        "id": "7Y09jripe2Oz"
      },
      "source": [
        "##### Запобігання неправильного використання\n",
        "\n",
        "Оскільки маніпулювати об'єктом можна лише через чітко вказаний інтерфейс, розробник маже контролювати звертання до конкретних атрибутів у будь-який момент часу, таким чином унеможливлюється ситуація невалідних значень в атрибутах, неправильних викликів методів, тощо."
      ]
    },
    {
      "attachments": {},
      "cell_type": "markdown",
      "metadata": {
        "id": "-EU7750ogYFA"
      },
      "source": [
        "##### *Приклад*\n",
        "Реалізація розумного списку, який при звертанні за будь-яким індексом повертає елемент, позиція якого дорівнює модулю вказаного числа за довжиною списку (лишок при діленні на довжину списку, фактично дозволяє циклічно рухатися по списку).\n"
      ]
    },
    {
      "cell_type": "code",
      "execution_count": 1,
      "metadata": {
        "id": "UPyTQYLgi2Be"
      },
      "outputs": [],
      "source": [
        "class SmartList:\n",
        "  def __init__(self, initial_list: list = []):\n",
        "    self.lst = initial_list\n",
        "    self.length = len(initial_list)\n",
        "\n",
        "  def value(self, idx: int):\n",
        "    return self.lst[idx % self.length]"
      ]
    },
    {
      "attachments": {},
      "cell_type": "markdown",
      "metadata": {
        "id": "mjODmYfyjMp8"
      },
      "source": [
        "Якщо ж ми створимо об'єкт даного класу та спробуємо змінити лише одне з двох полів, ми отримаємо невалідний об'єкт, який буде видавати неправильний результат."
      ]
    },
    {
      "cell_type": "code",
      "execution_count": 2,
      "metadata": {
        "colab": {
          "base_uri": "https://localhost:8080/"
        },
        "id": "Z30wGVzHkFto",
        "outputId": "ce707647-ba32-42f6-e48d-3efb5be8d4c0"
      },
      "outputs": [
        {
          "name": "stdout",
          "output_type": "stream",
          "text": [
            "Third element in smart list is 1.\n",
            "After inserting one more element, the new list is [1, 2, 3, 4].\n",
            "The third element in smart list is 1.\n",
            "However it should be 4.\n"
          ]
        }
      ],
      "source": [
        "smart_list = SmartList([1, 2, 3])\n",
        "print(f\"Third element in smart list is {smart_list.value(3)}.\")\n",
        "smart_list.lst += [4]\n",
        "print(f\"After inserting one more element, the new list is {smart_list.lst}.\\n\" \n",
        "      f\"The third element in smart list is {smart_list.value(3)}.\\n\"\n",
        "      f\"However it should be {smart_list.lst[3]}.\")"
      ]
    },
    {
      "attachments": {},
      "cell_type": "markdown",
      "metadata": {
        "id": "PdIgLHHHlg5S"
      },
      "source": [
        "##### Гнучкість реалізації\n",
        "\n",
        "Інтерфейс за допомогою якого маніпулюють об'єктом не залежить від реалізації, а отже розробник може змінювати логіку яка використовується в коді, допоки не змінюється інтерфейс"
      ]
    },
    {
      "attachments": {},
      "cell_type": "markdown",
      "metadata": {
        "id": "ChjtlAocmp0R"
      },
      "source": [
        "##### *Приклад*\n",
        "Знаходження координат країни за її назвою. Інтерфейс функції:\n",
        "\n",
        "`get_coordinates(country_name: str) -> list[float]`"
      ]
    },
    {
      "cell_type": "code",
      "execution_count": 11,
      "metadata": {
        "id": "hebQP-zGnWFf"
      },
      "outputs": [],
      "source": [
        "# Реалізація №1\n",
        "def get_coordinates(country_name: str) -> list:\n",
        "  from geopy.geocoders import Nominatim\n",
        "  geolocator = Nominatim(user_agent=\"specify_your_app_name_here\")\n",
        "  location = geolocator.geocode(country_name)\n",
        "  return [location.latitude, location.longitude]"
      ]
    },
    {
      "cell_type": "code",
      "execution_count": 12,
      "metadata": {
        "id": "qlG50FFknY5a"
      },
      "outputs": [],
      "source": [
        "# Реалізація №2\n",
        "def get_coordinates(country_name: str) -> list:\n",
        "  import json\n",
        "  with open(\"country_coords.json\", 'r', encoding='utf-8') as country_codes:\n",
        "    data = json.load(country_codes)\n",
        "  return data[country_name]"
      ]
    },
    {
      "cell_type": "markdown",
      "metadata": {
        "id": "n_4kwzAopGPF"
      },
      "source": [
        "Часто ви зможете лише здогадуватись яка саме реалізація у того чи іншого метода чи функції, а час від часу реалізація може змінюватися, але при цьому спосіб використання цієї функції завжди має бути сталим"
      ]
    },
    {
      "attachments": {},
      "cell_type": "markdown",
      "metadata": {
        "id": "MLzKz5fLp2Tc"
      },
      "source": [
        "##### Конфіденційність даних\n",
        "\n",
        "Заради коректної роботи методів часто необхідне використання тих чи інших конфіденційних даних, доступ до яких має бути обмеженим для користувача, що забезпечується відсутністю способів звертань до них за допомогою інтерфейсу"
      ]
    },
    {
      "attachments": {},
      "cell_type": "markdown",
      "metadata": {
        "id": "QCnhOmVTrUua"
      },
      "source": [
        "##### *Приклад*\n",
        "Ключі для використання API методів. Оскільки їх використання може бути обмеженим, або інколи навіть тарифікуватись, їх секретність є критично важливою, а отже, до змінних в яких зберігаються такі ключі не має бути доступу в користувача"
      ]
    },
    {
      "attachments": {},
      "cell_type": "markdown",
      "metadata": {
        "id": "0g7nNQBbtU0W"
      },
      "source": [
        "#### Інкапсуляція в python\n",
        "\n",
        "За реалізацію інкапсуляції в різних мовах програмування відповідають певні ключові слова, які явно вказують можливість доступу до конкретного атрубуту чи методу. Зазвичай використовуються наступні:\n",
        "\n",
        " - **public** - доступ дозволено для усіх\n",
        " - **protected** - доступ захищено, звертання дозволене лише для дочірних класів\n",
        " - **private** - доступ заборонено для усіх\n",
        "\n",
        "У python можливість задати рівень доступу до аргументу чи функції реалізований в інший спосіб:\n",
        "\n",
        " - Будь-який атрибут/метод по замовчування вважається публічним (*public*)\n",
        " - Метод/атрибут, чия назва починається з символа `_` вважається захищенним (*protected*)\n",
        " - Метод/атрибут, чия назва починається з символів `__` вважається приватним (*private*)\n",
        "\n",
        "**Варто зауважити:**\n",
        "\n",
        " 1. Виключенням з цього правила є методи які починаються та закінчуються на `__`, ці методи є **публічними**\n",
        " 2. Інтерпретатор python **не перевіряє** доступ до захищених елементів. Такий синтаксис є домовленістю, а не правилом, та слугує підказкою програмісту"
      ]
    },
    {
      "cell_type": "code",
      "execution_count": 5,
      "metadata": {
        "id": "q5260deBwvg6"
      },
      "outputs": [],
      "source": [
        "class VerySmartList:\n",
        "  def __init__(self, initial_list: list = []):\n",
        "    self.__lst = initial_list\n",
        "    self.__length = len(initial_list)\n",
        "\n",
        "  def value(self, idx: int):\n",
        "    return self.__lst[self._actual_index(idx)]\n",
        "\n",
        "  def _actual_index(self, idx: int):\n",
        "    return idx % self.__length\n",
        "\n",
        "  def __add_element__(self, new_element):\n",
        "    self.__lst.append(new_element)\n",
        "    self.__length += 1"
      ]
    },
    {
      "cell_type": "code",
      "execution_count": 6,
      "metadata": {
        "id": "AbklvCS1w74-"
      },
      "outputs": [
        {
          "name": "stdout",
          "output_type": "stream",
          "text": [
            "1\n",
            "0\n",
            "None\n"
          ]
        }
      ],
      "source": [
        "very_smart_list = VerySmartList([1, 2, 3])\n",
        "print(very_smart_list.value(3))            # Метод value є публічним, а отже його можна викликати\n",
        "print(very_smart_list._actual_index(3))   # Метод _actual_index є захищеним, його виклик не призведе до помилки\n",
        "print(very_smart_list.__add_element__(1))   # Метод __add_element__ є публічним, оскільки він починається та закінчується на __\n",
        "# print(very_smart_list.__lst)             # Атрибут __lst є приватним, а отже спроба його отримати викличе помилку"
      ]
    },
    {
      "attachments": {},
      "cell_type": "markdown",
      "metadata": {
        "id": "-2JEjw-w64m7"
      },
      "source": [
        "#### Getter, setter, property\n",
        "\n",
        "Часто певні атрибути класу мають задовільняти якісь умови, наприклад: ім'я має бути рядком, але не пустим, вік має бути цілим числом, але не від'ємним, тощо. Робити такі атрибути публічними може бути поганою ідеєю, адже тоді їм можна встановити будь-яке значення, що може призвести до помилок виконання, але й приватними їх не зробиш, оскільки важливо мати можливість змінювати значення атрибуту \n",
        "\n",
        "Цю проблему зазвичай вирішують створюючи **спеціальні методи**, так звані гетери та сетери, з необхідними перевіркою  залишаючи при цьому атрибут приватним"
      ]
    },
    {
      "cell_type": "code",
      "execution_count": 7,
      "metadata": {
        "id": "__K8IwHADblw"
      },
      "outputs": [],
      "source": [
        "class GetterSetterList:\n",
        "  def __init__(self, initial_list: list = []):\n",
        "    self.__lst = initial_list\n",
        "    self.__length = len(initial_list)\n",
        "\n",
        "  def value(self, idx: int):\n",
        "    return self.__lst[self._actual_index(idx)]\n",
        "\n",
        "  def _actual_index(self, idx: int):\n",
        "    return idx % self.__length\n",
        "\n",
        "  def __add_element__(self, new_element):\n",
        "    self.__lst.append(new_element)\n",
        "    self.__length += 1\n",
        "\n",
        "  def get_list(self):               # Getter\n",
        "    return self.__lst\n",
        "  \n",
        "  def get_length(self):             # Getter\n",
        "    return self.__length\n",
        "\n",
        "  def set_list(self, new_list):     # Settter\n",
        "    if not isinstance(new_list, list) or not new_list:\n",
        "      # Виконується тільки якщо аргумент методу не список, або порожній список\n",
        "      raise ValueError(\"Only non-emty lists are suported\")\n",
        "    # Виконується тільки якщо аргумент методу не порожній список\n",
        "    self.__lst = new_list\n",
        "    self.__length = len(new_list)"
      ]
    },
    {
      "cell_type": "markdown",
      "metadata": {
        "id": "Mt4Lyz1LGx8U"
      },
      "source": [
        "За допомогою так званих гетерів (`get_list`, `get_length`) можна дізнаватися значення приватних атрибутів, а за допомогою сетерів (`set_list`) можна задавати значення атрибутам, враховуючи при цьому всі необхідні обмеження\n",
        "\n",
        "**Важливо**: викликаючи гетер, програміст очікує дізнатися про поточний стан об'єкта, а тому зміна значень атрибутів в гетері - дуже погана практика, яка призводить до дивних помилок"
      ]
    },
    {
      "cell_type": "code",
      "execution_count": 8,
      "metadata": {
        "colab": {
          "base_uri": "https://localhost:8080/"
        },
        "id": "4v3Mjvz8H-jl",
        "outputId": "f3d43a19-b8d6-4b44-d152-97a690753e7f"
      },
      "outputs": [
        {
          "name": "stdout",
          "output_type": "stream",
          "text": [
            "Initialized list is [1, 2, 3]\n",
            "Length of the initialized list is 3\n",
            "Newly setted list is [4, 5, 6]\n",
            "\n",
            "I still can not get the list itself:\n",
            "AttributeError(\"'GetterSetterList' object has no attribute '__lst'\")\n",
            "\n",
            "I can not set a number as a list:\n",
            "ValueError('Only non-emty lists are suported')\n"
          ]
        }
      ],
      "source": [
        "getter_setter_list = GetterSetterList([1, 2, 3])\n",
        "print(f\"Initialized list is {getter_setter_list.get_list()}\")\n",
        "print(f\"Length of the initialized list is {getter_setter_list.get_length()}\")\n",
        "getter_setter_list.set_list([4, 5, 6])\n",
        "print(f\"Newly setted list is {getter_setter_list.get_list()}\\n\")\n",
        "\n",
        "try:\n",
        "  print(f\"I can reach the list itself, it is {getter_setter_list.__lst}\")\n",
        "except AttributeError as error:\n",
        "  print(f\"I still can not get the list itself:\\n{repr(error)}\\n\")\n",
        "\n",
        "try:\n",
        "  getter_setter_list.set_list(123)\n",
        "  print(f\"I managed to set a number to a list: {getter_setter_list.get_list()}\")\n",
        "except ValueError as error:\n",
        "  print(f\"I can not set a number as a list:\\n{repr(error)}\")"
      ]
    },
    {
      "cell_type": "markdown",
      "metadata": {
        "id": "csLIYRfPMdpt"
      },
      "source": [
        "Використання дивних функцій для встановлення значень у певний атрибут інколи може заплутати, адже зазвичай це виконується за допомогою звичайного присвоєння. Для цього у класі можна створити так звану **властивість** (property), доступатись до якої можна аналогічним способом, як і до атрибутів. \n",
        "На відміну від звичайних атрибутів класу при читанні та запису у властивість буде викликатися відповідний метод, вказаний при створенні властивості:\n",
        "\n",
        "`property_name = property(getter, setter, deleter, docstring)`"
      ]
    },
    {
      "cell_type": "code",
      "execution_count": 12,
      "metadata": {
        "id": "3pogNGgxN3IS"
      },
      "outputs": [],
      "source": [
        "class PropertyList:\n",
        "  def __init__(self, initial_list: list = []):\n",
        "    self.__lst = initial_list\n",
        "    self.__length = len(initial_list)\n",
        "\n",
        "  def value(self, idx: int):\n",
        "    return self.__lst[self._actual_index(idx)]\n",
        "\n",
        "  def _actual_index(self, idx: int):\n",
        "    return idx % self.__length\n",
        "\n",
        "  def __add_element__(self, new_element):\n",
        "    self.__lst.append(new_element)\n",
        "    self.__length += 1\n",
        "\n",
        "  def __get_list(self):                 # Getter\n",
        "    return self.__lst\n",
        "\n",
        "  def __set_list(self, new_list):       # Setter\n",
        "    if not isinstance(new_list, list) or not new_list:\n",
        "      # Виконується тільки якщо аргумент методу не список, або порожній список\n",
        "      raise ValueError(\"Only non-emty lists are suported\")\n",
        "    # Виконується тільки якщо аргумент методу не порожній список\n",
        "    self.__lst = new_list\n",
        "    self.__length = len(new_list)\n",
        "\n",
        "  def __del_list(self):                 # Deleter\n",
        "    self.__lst = []\n",
        "    self.__length = 0\n",
        "\n",
        "  lst = property(__get_list, __set_list, __del_list, \"List property\")"
      ]
    },
    {
      "cell_type": "markdown",
      "metadata": {
        "id": "9Vfp7xfhTgVt"
      },
      "source": [
        "**Варто зауважити, що самі методи варто робити приватними, щоб не засмічувати `__dict__`** "
      ]
    },
    {
      "cell_type": "code",
      "execution_count": 13,
      "metadata": {
        "colab": {
          "base_uri": "https://localhost:8080/"
        },
        "id": "N6u_lOJOOnva",
        "outputId": "3f336f72-105f-48e9-93f3-5c69454a4263"
      },
      "outputs": [
        {
          "name": "stdout",
          "output_type": "stream",
          "text": [
            "Initial value of the list is [1, 2, 3]\n",
            "New value of the list is [4, 5, 6]\n",
            "Value of the list after deleting is []\n"
          ]
        }
      ],
      "source": [
        "property_list = PropertyList([1, 2, 3])\n",
        "print(f\"Initial value of the list is {property_list.lst}\")\n",
        "property_list.lst = [4, 5, 6]\n",
        "print(f\"New value of the list is {property_list.lst}\")\n",
        "del property_list.lst\n",
        "print(f\"Value of the list after deleting is {property_list.lst}\")"
      ]
    },
    {
      "cell_type": "markdown",
      "metadata": {
        "id": "o3pOjk9ZSzZD"
      },
      "source": [
        "Існує також й інший спосіб створити властивість класу, за допомогою **декораторів**, при цьому назва властивості співпадатиме з назвами усіх використаних функцій"
      ]
    },
    {
      "cell_type": "code",
      "execution_count": 25,
      "metadata": {
        "id": "b1wo-ZwWWHGm"
      },
      "outputs": [],
      "source": [
        "class DecoratedPropertyList:\n",
        "  def __init__(self, initial_list: list = []):\n",
        "    self.__lst = initial_list\n",
        "    self.__length = len(initial_list)\n",
        "\n",
        "  def value(self, idx: int):\n",
        "    return self.__lst[self._actual_index(idx)]\n",
        "\n",
        "  def _actual_index(self, idx: int):\n",
        "    return idx % self.__length\n",
        "\n",
        "  def __add_element__(self, new_element):\n",
        "    self.__lst.append(new_element)\n",
        "    self.__length += 1\n",
        "\n",
        "  @property\n",
        "  def lst(self):                 # Getter\n",
        "    return self.__lst\n",
        "\n",
        "  @lst.setter\n",
        "  def lst(self, new_list):       # Setter\n",
        "    if not isinstance(new_list, list) or not new_list:\n",
        "      # Виконується тільки якщо аргумент методу не список, або порожній список\n",
        "      raise ValueError(\"Only non-emty lists are suported\")\n",
        "    # Виконується тільки якщо аргумент методу не порожній список\n",
        "    self.__lst = new_list\n",
        "    self.__length = len(new_list)\n",
        "\n",
        "  @lst.deleter\n",
        "  def lst(self):                 # Deleter\n",
        "    self.__lst = []\n",
        "    self.__length = 0"
      ]
    },
    {
      "cell_type": "code",
      "execution_count": 26,
      "metadata": {
        "colab": {
          "base_uri": "https://localhost:8080/"
        },
        "id": "NiZ5YGU8WpqY",
        "outputId": "36115007-a298-488a-c6f7-3ad3f03fcd67"
      },
      "outputs": [
        {
          "name": "stdout",
          "output_type": "stream",
          "text": [
            "Initial value of the list is [1, 2, 3]\n",
            "New value of the list is [4, 5, 6]\n",
            "Value of the list after deleting is []\n"
          ]
        }
      ],
      "source": [
        "property_list = DecoratedPropertyList([1, 2, 3])\n",
        "print(f\"Initial value of the list is {property_list.lst}\")\n",
        "property_list.lst = [4, 5, 6]\n",
        "print(f\"New value of the list is {property_list.lst}\")\n",
        "del property_list.lst\n",
        "print(f\"Value of the list after deleting is {property_list.lst}\")\n"
      ]
    },
    {
      "attachments": {},
      "cell_type": "markdown",
      "metadata": {
        "id": "GKArJSe2X92W"
      },
      "source": [
        "## Успадкування\n",
        "\n",
        "Успадкування - один з основних механізмів ООП, який надає класу можливість використовувати код іншого, **доповнюючи** його власними деталями реалізації"
      ]
    },
    {
      "attachments": {},
      "cell_type": "markdown",
      "metadata": {
        "id": "kR6E3z4pohUd"
      },
      "source": [
        "#### Чому це важливо?\n",
        "Використання успадкування у вашому коді не змінить спосіб його використання в інших місцях, проте може значно спростити розробку. Використання успадкування дозволяє:\n",
        "\n",
        " - Уникнути дублювання коду, перевикориставши вже написаний\n",
        " - Використовувати бібліотеки, розширюючи потрібні класи в разі необхіддності\n",
        " - Ліпше зрозуміти логіку проєкту"
      ]
    },
    {
      "cell_type": "markdown",
      "metadata": {
        "id": "h0TP4EtXu5YT"
      },
      "source": [
        "##### Перевикористання власного коду\n",
        "За необхідності реалізувати клас, який за своїм змістом є підмножиною іншого, вже реалізованого класу, скопіювати необхідний функціонал буде поганою ідеєю. Крщим рішенням буде успадкувати новостворений клас від вже існуючого"
      ]
    },
    {
      "attachments": {},
      "cell_type": "markdown",
      "metadata": {
        "id": "B3Cvp08W1vFH"
      },
      "source": [
        "##### *Приклад*\n",
        "Окрім можливості отримати значення за будь-яким індексом, розумний список має мати метод, який поверне мінімальне значення"
      ]
    },
    {
      "cell_type": "code",
      "execution_count": 14,
      "metadata": {
        "id": "ZkpENZfS2vAS"
      },
      "outputs": [],
      "source": [
        "class MinSmartList(PropertyList):\n",
        "  def get_min(self):\n",
        "    return min(self.lst)"
      ]
    },
    {
      "cell_type": "markdown",
      "metadata": {
        "id": "y8sEn20a5YSz"
      },
      "source": [
        "Такий клас матиме увесь функціонал, який присутній у класі `PropertyList`, а також метод для знаходження мінімуму"
      ]
    },
    {
      "cell_type": "code",
      "execution_count": 15,
      "metadata": {
        "colab": {
          "base_uri": "https://localhost:8080/"
        },
        "id": "d6TBOLTX3qf4",
        "outputId": "b6e2632d-8efc-463f-f6c9-462857040201"
      },
      "outputs": [
        {
          "name": "stdout",
          "output_type": "stream",
          "text": [
            "Initialized list is [1, 2, 3]\n",
            "Thrd element in the list is 1\n",
            "Minimum value in the list is 1\n"
          ]
        }
      ],
      "source": [
        "min_smart_list = MinSmartList([1, 2, 3])\n",
        "print(f\"Initialized list is {min_smart_list.lst}\")\n",
        "print(f\"Thrd element in the list is {min_smart_list.value(3)}\")\n",
        "print(f\"Minimum value in the list is {min_smart_list.get_min()}\")"
      ]
    },
    {
      "cell_type": "markdown",
      "metadata": {
        "id": "zwygg6vgza3G"
      },
      "source": [
        "##### Використання бібліотек\n",
        "Інколи класи створені іншими розробниками часто не повністю відповідають вимогам конкретної програми, оскільки в них бракує певного специфічного функціоналу. У такому випадку варто створити власний клас, який буде успадковувати існуючий, та матиме окримо прописані, необхідні саме конкретній програмі властивості"
      ]
    },
    {
      "attachments": {},
      "cell_type": "markdown",
      "metadata": {
        "id": "TeRjTmQF1Vah"
      },
      "source": [
        "##### *Приклад*\n",
        "Реалізація списку, доступитися до елементів якого можна за допомогою будь-якого числа з використанням успадкування може вигладати отак"
      ]
    },
    {
      "cell_type": "code",
      "execution_count": 27,
      "metadata": {
        "id": "Hhn70fj36SG2"
      },
      "outputs": [],
      "source": [
        "class InheritedList(list):\n",
        "  def value(self, idx: int):\n",
        "    return self[idx % len(self)]"
      ]
    },
    {
      "cell_type": "markdown",
      "metadata": {
        "id": "blFILcgI7G65"
      },
      "source": [
        "Оскільки новий клас є нащадком `list`, він має повний функціонал цього класу, чого не мали класи неаписані вище"
      ]
    },
    {
      "cell_type": "code",
      "execution_count": 28,
      "metadata": {
        "colab": {
          "base_uri": "https://localhost:8080/"
        },
        "id": "wlxcAeqI6vLc",
        "outputId": "5ebab584-7e07-4021-d899-1e52014dcd8f"
      },
      "outputs": [
        {
          "name": "stdout",
          "output_type": "stream",
          "text": [
            "Initialized list is [1, 2, 3, 4, 5, 6]\n",
            "Sixth element in the list id 1\n",
            "Also I can slice this list: inherited_list[1:5:2] = [2, 4]\n"
          ]
        }
      ],
      "source": [
        "inherited_list = InheritedList([1, 2, 3, 4, 5, 6])\n",
        "print(f\"Initialized list is {inherited_list}\")\n",
        "print(f\"Sixth element in the list id {inherited_list.value(6)}\")\n",
        "print(f\"Also I can slice this list: inherited_list[1:5:2] = {inherited_list[1:5:2]}\")"
      ]
    },
    {
      "cell_type": "markdown",
      "metadata": {
        "id": "m7ajlhEJ1c9w"
      },
      "source": [
        "#### Успадкування в python\n",
        "Успадковування в python має наступний синтаксис:\n",
        "\n",
        "`class Child(Parent1, Parent2, ...)`,\n",
        "\n",
        "при цьому клас `Child` називають **дочірним** або підкласом, а класи `Parent1`, `Parent2` називають **батьківськими** або суперкласами"
      ]
    },
    {
      "cell_type": "markdown",
      "metadata": {
        "id": "t-PbAP5nJLCT"
      },
      "source": [
        "Для перевірки чи є об'єкт екземпляром класу використовується функція **`isinstance`**, а для перевірки, чи є клас підкласом іншого класу використовується функція **`issubclass`**"
      ]
    },
    {
      "cell_type": "code",
      "execution_count": null,
      "metadata": {
        "id": "QuOKzpXMJ4YS"
      },
      "outputs": [],
      "source": [
        "class A:\n",
        "  pass\n",
        "class B(A):\n",
        "  pass"
      ]
    },
    {
      "cell_type": "code",
      "execution_count": null,
      "metadata": {
        "colab": {
          "base_uri": "https://localhost:8080/"
        },
        "id": "oAEk-qUoKBvM",
        "outputId": "5c722db1-e4cf-4f2c-fd49-d3b4c0cc9a27"
      },
      "outputs": [
        {
          "name": "stdout",
          "output_type": "stream",
          "text": [
            "a_object is an instance of class A: True\n",
            "b_object is an instance of class A: True\n",
            "a_object is not an instance of class B: False\n",
            "\n",
            "B is a subclass of class A: True\n",
            "A is not a subclass of class B: False\n"
          ]
        }
      ],
      "source": [
        "a_object = A()\n",
        "b_object = B()\n",
        "print(f\"a_object is an instance of class A: {isinstance(a_object, A)}\")\n",
        "print(f\"b_object is an instance of class A: {isinstance(b_object, A)}\")\n",
        "print(f\"a_object is not an instance of class B: {isinstance(a_object, B)}\\n\")\n",
        "print(f\"B is a subclass of class A: {issubclass(B, A)}\")\n",
        "print(f\"A is not a subclass of class B: {issubclass(A, B)}\")"
      ]
    },
    {
      "cell_type": "markdown",
      "metadata": {
        "id": "MIPQ94b8JJ5L"
      },
      "source": [
        "У python будь-який клас є підкласом спеціального класу **`object`**, а тому наступні оголошення є еквівалентними:\n",
        "\n",
        "`class SomeClass(object)` ≡ `class SomeClass`"
      ]
    },
    {
      "cell_type": "code",
      "execution_count": null,
      "metadata": {
        "colab": {
          "base_uri": "https://localhost:8080/"
        },
        "id": "pvuif-k_LNPw",
        "outputId": "e09ca578-0314-4cf4-8569-28fdee667389"
      },
      "outputs": [
        {
          "name": "stdout",
          "output_type": "stream",
          "text": [
            "A is subclass of class object: True\n",
            "123 is instance of class object: True\n"
          ]
        }
      ],
      "source": [
        "print(f\"A is subclass of class object: {issubclass(A, object)}\")\n",
        "print(f\"123 is instance of class object: {isinstance(123,)}\")"
      ]
    },
    {
      "cell_type": "markdown",
      "metadata": {
        "id": "GA_6qLPeU2GO"
      },
      "source": [
        "#### Простір імен\n",
        "Кожен об'єкт та кожен клас у python є простором імен, звичайним списком атрибутів, до яких можна доступитися. При успадкуванні класу `Parent` класом `Child`, до методів та атрибутів класу `Child` дописується простір імен класу `Parent`, що означає можливість викликати метод класу `Parent` з об'єкту класу `Child`\n",
        "\n",
        "При кожному звертанні до методів/атрибутів, інтерпретатор запускає пошук вказаного імені у просторі імен об'єкту, та звертається до першого знайденого\n",
        "\n",
        "Для дослідження просторів імен можна використати функцію `dir`, або атрибут `__dict__`. Порядок дослідження просторів імен для \n",
        "класу можна дізнатися за допомогою методу `mro`"
      ]
    },
    {
      "cell_type": "code",
      "execution_count": null,
      "metadata": {
        "id": "aXteR3yEaFAh"
      },
      "outputs": [],
      "source": [
        "class A:\n",
        "  def method_from_a(self):\n",
        "    pass\n",
        "class B(A):\n",
        "  def method_from_b(self):\n",
        "    pass\n",
        "class C(B):\n",
        "  def method_from_c(slef):\n",
        "    pass"
      ]
    },
    {
      "cell_type": "code",
      "execution_count": null,
      "metadata": {
        "colab": {
          "base_uri": "https://localhost:8080/"
        },
        "id": "VtdRVWDRcGit",
        "outputId": "42c73832-7743-41a1-c766-589abce9dbd2"
      },
      "outputs": [
        {
          "name": "stdout",
          "output_type": "stream",
          "text": [
            "Name space for class A is ['__class__', '__delattr__', '__dict__', '__dir__', '__doc__', '__eq__', '__format__', '__ge__', '__getattribute__', '__gt__', '__hash__', '__init__', '__init_subclass__', '__le__', '__lt__', '__module__', '__ne__', '__new__', '__reduce__', '__reduce_ex__', '__repr__', '__setattr__', '__sizeof__', '__str__', '__subclasshook__', '__weakref__', 'method_from_a']\n",
            "Name space for class B is ['__class__', '__delattr__', '__dict__', '__dir__', '__doc__', '__eq__', '__format__', '__ge__', '__getattribute__', '__gt__', '__hash__', '__init__', '__init_subclass__', '__le__', '__lt__', '__module__', '__ne__', '__new__', '__reduce__', '__reduce_ex__', '__repr__', '__setattr__', '__sizeof__', '__str__', '__subclasshook__', '__weakref__', 'method_from_a', 'method_from_b']\n",
            "Name space for class C is ['__class__', '__delattr__', '__dict__', '__dir__', '__doc__', '__eq__', '__format__', '__ge__', '__getattribute__', '__gt__', '__hash__', '__init__', '__init_subclass__', '__le__', '__lt__', '__module__', '__ne__', '__new__', '__reduce__', '__reduce_ex__', '__repr__', '__setattr__', '__sizeof__', '__str__', '__subclasshook__', '__weakref__', 'method_from_a', 'method_from_b', 'method_from_c']\n",
            "\n",
            "The order of name spaces to search in for class C is [<class '__main__.C'>, <class '__main__.B'>, <class '__main__.A'>, <class 'object'>]\n"
          ]
        }
      ],
      "source": [
        "print(f\"Name space for class A is {dir(A)}\")\n",
        "print(f\"Name space for class B is {dir(B)}\")\n",
        "print(f\"Name space for class C is {dir(C)}\\n\")\n",
        "print(f\"The order of name spaces to search in for class C is {C.mro()}\")"
      ]
    },
    {
      "cell_type": "markdown",
      "metadata": {
        "id": "pcP4cVtocKKd"
      },
      "source": [
        "Пам'ятаємо, що клас `A` успадковується від `object`, звідси і купа дивних методів у кожному з просторів імен, усі воони - елементи класу `object`"
      ]
    },
    {
      "cell_type": "markdown",
      "metadata": {
        "id": "VnQeNTAsetId"
      },
      "source": [
        "#### Super\n",
        "Часто для реаліацій підкласів буває корисно скористатися методом чи атрибутом суперкласу. Завдяки наявності простору імен суперкласу у просторі підкласу, зазвичай це можливо зробити дуже легко: `obj.attr`, але проблеми виникають тоді, коли існують методи/атрибути з однаковими іменами (наприклад  `__init__`). Викликати такі методи можна у 2 способи:\n",
        "\n",
        "`SuperClass.method(self, arg1, arg2, ...)`\n",
        "\n",
        "`super().method(arg1, arg2, ...)`\n",
        "\n",
        "Функція `super()` повертає тимчасовий об'єкт суперкласу, а отже, в його просторі імен існують лише методи суперкласу, один з яких ми й викликаємо. Варто зауважити, що використання функції `super()` є більш універсальним за виклик функції з класу"
      ]
    },
    {
      "cell_type": "code",
      "execution_count": null,
      "metadata": {
        "colab": {
          "base_uri": "https://localhost:8080/"
        },
        "id": "XAlxmHPuSt9h",
        "outputId": "931e0d4a-75a0-441c-ebf7-c760668cff82"
      },
      "outputs": [
        {
          "name": "stdout",
          "output_type": "stream",
          "text": [
            "Using self.nethod()...\n",
            "Method from class B\n",
            "Using super().method()...\n",
            "Method from class A\n"
          ]
        }
      ],
      "source": [
        "class A:\n",
        "  def method(self):\n",
        "    print(\"Method from class A\")\n",
        "class B(A):\n",
        "  def nethod(self):\n",
        "    print(\"Method from class B\")\n",
        "  def self_call(self):\n",
        "    print(\"Using self.nethod()...\")\n",
        "    self.nethod()\n",
        "  def super_call(self):\n",
        "    print(\"Using super().method()...\")\n",
        "    super().method()\n",
        "\n",
        "\n",
        "B().self_call()\n",
        "B().super_call()"
      ]
    },
    {
      "cell_type": "markdown",
      "metadata": {
        "id": "QZjvrIS3QgIx"
      },
      "source": [
        "#### Diamond problem\n",
        "У python, на відміну від багатоьлх інших мов програмування, є можливість успадковуватися від декількох суперкласів одночасно, через що виникають певні проблеми\n",
        "\n",
        "> Який атрибут буде використовувати інтерпретатор Python, якщо в графі успадкування в суперкласах визначені атрибути з однаковими іменами?\n",
        "\n",
        "Для кожного об'єкта в python визначений список з просторів імен в яких необхідно шукати вказані еоементи. Дізнатися у якому саме порядку та у яких простороах інтерпретатор буде шукати можна за допомогою методу `mro`\n",
        "\n",
        "В разі множинного успадкування, пошук імен у суперкласах буде відбуватись у порядку, в якому вони були вказаані **при оголошені** класу."
      ]
    },
    {
      "cell_type": "code",
      "execution_count": 29,
      "metadata": {
        "id": "R12U48W0XSDT"
      },
      "outputs": [],
      "source": [
        "class A:\n",
        "  def __init__(self):\n",
        "    super().__init__()\n",
        "    self.attr = \"attribute from class A\"\n",
        "class B:\n",
        "  def __init__(self):\n",
        "    super().__init__()\n",
        "    self.attr = \"attribute from class B\"\n",
        "class AB(A, B):\n",
        "  def __init__(self):\n",
        "    super().__init__()\n",
        "    print(f\"Attribute attr from class AB(A, B) is {self.attr}\")\n",
        "class BA(B, A):\n",
        "  def __init__(self):\n",
        "    super().__init__()\n",
        "    print(f\"Attribute attr from class BA(B, A) is {self.attr}\")"
      ]
    },
    {
      "cell_type": "code",
      "execution_count": 30,
      "metadata": {
        "colab": {
          "base_uri": "https://localhost:8080/"
        },
        "id": "SPDTmKtqZ0_n",
        "outputId": "8eb99295-1766-42f4-c991-36e25976a85a"
      },
      "outputs": [
        {
          "name": "stdout",
          "output_type": "stream",
          "text": [
            "Method resolution order for AB is [<class '__main__.AB'>, <class '__main__.A'>, <class '__main__.B'>, <class 'object'>]\n",
            "Method resolution order for BA is [<class '__main__.BA'>, <class '__main__.B'>, <class '__main__.A'>, <class 'object'>]\n"
          ]
        }
      ],
      "source": [
        "print(f\"Method resolution order for AB is {AB.mro()}\")\n",
        "print(f\"Method resolution order for BA is {BA.mro()}\")"
      ]
    },
    {
      "cell_type": "markdown",
      "metadata": {
        "id": "GpldADctcA2p"
      },
      "source": [
        "**Важливо зауважити**: виклик методу `super()` повертає екзкмпляр класу який іде наступним у цьому списку після поточного, і це не завжди буде суперкласом"
      ]
    },
    {
      "cell_type": "code",
      "execution_count": 31,
      "metadata": {
        "id": "n9QV8hrYTprW"
      },
      "outputs": [],
      "source": [
        "class Base:\n",
        "  def __init__(self):\n",
        "    print(\"Base init\")\n",
        "\n",
        "class A(Base):\n",
        "  def __init__(self):\n",
        "    print(\"A init\")\n",
        "    super().__init__() # B.__init__ !!! \n",
        "\n",
        "class B(Base):\n",
        "  def __init__(self):\n",
        "    print(\"B init\")\n",
        "    super().__init__() # Base.__init__\n",
        "    \n",
        "class C(A, B):\n",
        "  def __init__(self):\n",
        "    print(\"C init\")\n",
        "    super().__init__() # A.__init__"
      ]
    },
    {
      "cell_type": "code",
      "execution_count": null,
      "metadata": {
        "colab": {
          "base_uri": "https://localhost:8080/"
        },
        "id": "wtelLRBcc_Na",
        "outputId": "d09eca0c-26a3-4988-8242-b08cc7ba856e"
      },
      "outputs": [
        {
          "name": "stdout",
          "output_type": "stream",
          "text": [
            "C init\n",
            "A init\n",
            "B init\n",
            "Base init\n"
          ]
        },
        {
          "data": {
            "text/plain": [
              "[__main__.C, __main__.A, __main__.B, __main__.Base, object]"
            ]
          },
          "execution_count": 31,
          "metadata": {},
          "output_type": "execute_result"
        }
      ],
      "source": [
        "C()\n",
        "C.mro()"
      ]
    }
  ],
  "metadata": {
    "colab": {
      "collapsed_sections": [
        "nWp6dNlhOdkN",
        "asbrk6jaWdMx",
        "7IeLal5ra6Id",
        "7Y09jripe2Oz",
        "-EU7750ogYFA",
        "PdIgLHHHlg5S",
        "ChjtlAocmp0R",
        "MLzKz5fLp2Tc",
        "QCnhOmVTrUua",
        "0g7nNQBbtU0W",
        "-2JEjw-w64m7",
        "GKArJSe2X92W",
        "kR6E3z4pohUd",
        "h0TP4EtXu5YT",
        "B3Cvp08W1vFH",
        "zwygg6vgza3G",
        "TeRjTmQF1Vah",
        "m7ajlhEJ1c9w",
        "GA_6qLPeU2GO",
        "VnQeNTAsetId",
        "QZjvrIS3QgIx"
      ],
      "provenance": []
    },
    "kernelspec": {
      "display_name": "Python 3",
      "language": "python",
      "name": "python3"
    },
    "language_info": {
      "codemirror_mode": {
        "name": "ipython",
        "version": 3
      },
      "file_extension": ".py",
      "mimetype": "text/x-python",
      "name": "python",
      "nbconvert_exporter": "python",
      "pygments_lexer": "ipython3",
      "version": "3.10.5"
    },
    "vscode": {
      "interpreter": {
        "hash": "5c7b89af1651d0b8571dde13640ecdccf7d5a6204171d6ab33e7c296e100e08a"
      }
    }
  },
  "nbformat": 4,
  "nbformat_minor": 0
}
