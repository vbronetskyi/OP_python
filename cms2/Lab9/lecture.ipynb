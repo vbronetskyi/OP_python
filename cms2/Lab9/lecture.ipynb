{
  "cells": [
    {
      "cell_type": "markdown",
      "metadata": {
        "id": "4tzYgZalFgdh"
      },
      "source": [
        "# Основи проєктування та створення абстрактних типів даних на основі зв’язаних структур\n",
        "\n",
        "У цьому ноутбуці будуть наведені кроки для знаходження оптимальної абстрактної структури даних для виконання задач, що стоять перед Вами. У першому прикладі ми розглянемо розвʼязання задач за допомогою однозвʼязних структур."
      ]
    },
    {
      "attachments": {},
      "cell_type": "markdown",
      "metadata": {
        "id": "SYIEasMlLV4i"
      },
      "source": [
        "## Завдання 1\n",
        "\n",
        "> Дано колекцію значень. Значення в колекції можуть повторюватися. Колекція використовується для гри “Вгадай значення”. В процесі відгадування значень з колекції видаляються правильно відгадані значення. Процес повторюється до тих пір поки всі значення не будуть знайдені та видалені з колекції.\n",
        "\n",
        "Для того, щоб підійти до задачі варто правильно визначити послідовність кроків. Хорошою практикою будуть наступні етапи:\n",
        "\n",
        "1.   Визначення інтерфейсу: спочатку необхідно визначити, які операції має підтримувати АТД та який вигляд мають вхідні та вихідні дані для кожної операції. Інтерфейс АТД повинен бути придатним для використання програмістами, які будуть використовувати його в своїх програмах.\n",
        "2.   Визначення структури даних: наступним кроком є визначення структури даних, яка буде використовуватися для зберігання даних АТД. Наприклад, це може бути масив, список, черга або дерево.\n",
        "3.   Розроблення методів: потім розробляються методи, які використовуються для роботи з даними АТД. Ці методи повинні бути придатними для використання програмістами та повинні відповідати визначеному інтерфейсу.\n",
        "4.   Реалізація: після того, як інтерфейс та методи були визначені, необхідно реалізувати код АТД. Цей код повинен дотримуватися визначеного інтерфейсу та повинен бути придатним для використання в програмах.\n",
        "\n",
        "Саме цих кроків ми будемо дотримуватись для виконання нашої задачі.\n",
        "\n"
      ]
    },
    {
      "attachments": {},
      "cell_type": "markdown",
      "metadata": {
        "id": "tOk0FMTWVjd0"
      },
      "source": [
        "\n",
        "### Визначення інтерфейсу\n",
        "\n",
        "Із самого початку варто зрозуміти, які методи нам потрібно буде реалізувати для хорошої роботи нашого типу даних. Для роботи із програмою ми дамо їй назву `MultiSet` і будемо її згадувати саме так у майбутньому.\n",
        "\n",
        "Методи, що потребують реалізації:\n",
        "\n",
        "*   `CreateMultiset()`\n",
        "*   `IsEmptyMultiset(M)`\n",
        "*   `LookUpMultiset(M, item)`\n",
        "*   `AddToMultiset(M, item)`\n",
        "*   `DeleteFromMultiset(M, item)`\n",
        "\n",
        "На основі саме цих методів нам потрібно буде будувати наш тип даних."
      ]
    },
    {
      "cell_type": "markdown",
      "metadata": {
        "id": "6rBnXrJ3Vhjb"
      },
      "source": [
        "\n",
        "### Визначення структури даних\n",
        "\n",
        "Один із найголовніших етапів створення ADT це визначення, на якій структруі даних нам варто буде його базувати, адже від вибору різних структур даних ефективність використання памʼяті та швидкість виконання нашого коду може сильно змінюватись.\n",
        "\n",
        "Одними з головних факторів вибору певних структур даних є:\n",
        "\n",
        "* Форма даних (наприклад, окремі елементи, пари елементів)\n",
        "* Типи даних (будь-які, впорядковані, цифрові)\n",
        "* Інформація пов’язана з даними (наприклад, дві суміжні вершини утворюють ребро)\n",
        "* Позиціонування даних (наприклад, розміщення елементів в заданих позиціях)\n",
        "\n",
        "За допомогою таких критеріїв можна знаходити структури даних, які найкраще підходять саме Вашій задачі. Якщо говорити про базові структури даних, то нижче буде наведена таблиця таких із їх коротким описом щодо кожного з перелічених вище факторів:\n",
        "\n"
      ]
    },
    {
      "cell_type": "markdown",
      "metadata": {
        "id": "6N9pdgy3Ts_P"
      },
      "source": [
        "Порівняльна таблиця широковживаних абстрактних типів даних:\n",
        "\n",
        "$\\ $ | **Форма даних** | **Типи даних** | **Інформація пов’язана з даними** | **Позиціонування даних**\n",
        "--- | --- | --- | --- |---\n",
        "Multiset, Set| окремі елементи | будь-які  | немає | немає\n",
        "Stack, Queue, List, Ranking, Superlist, Grid| окремі елементи | будь-які  | немає | в порядку додавання (вставки) або у визначені позиції\n",
        "Unordered Tree, Binary Tree, Ordered Tree, Graph| Вершини, ребра, інші дані | будь-які  | дві суміжні вершини утворюють ребро | немає\n",
        "Dictionary, Priority Queue| Пари значень  | будь-які  | немає | немає\n"
      ]
    },
    {
      "attachments": {},
      "cell_type": "markdown",
      "metadata": {
        "id": "5At5SNXtVtIE"
      },
      "source": [
        "У нашому випадку нам варто використовувати `Mutliset`, адже цієї структури даних нам повністю вистачить для нашого завдання."
      ]
    },
    {
      "attachments": {},
      "cell_type": "markdown",
      "metadata": {
        "id": "ixOgV6SIYGfE"
      },
      "source": [
        "### Розроблення методів\n",
        "\n",
        "Тепер варто розробити приблизний вигляд нашої структури даних. Ми можемо написати ті методи, які ми вважаємо обовʼязковими у ній і таким чином опишемо її роботу. Ось приблизний вигляд нашого `Multiset`:"
      ]
    },
    {
      "cell_type": "code",
      "execution_count": 1,
      "metadata": {
        "id": "t1Cz1-GPYZdZ"
      },
      "outputs": [],
      "source": [
        "class Multiset:\n",
        "  def __init__(self):\n",
        "    \"\"\"\n",
        "    Produces a newly constructed empty Multiset.\n",
        "    __init__: -> Multiset\n",
        "    Field: _head points to the first node in the linked list\n",
        "    \"\"\"\n",
        "    pass\n",
        "\n",
        "  def empty(self):\n",
        "    \"\"\"\n",
        "    Checks emptiness of Multiset.\n",
        "    empty: Multiset -> Bool\n",
        "    :return: True if Multiset is empty and False otherwise.\n",
        "    \"\"\"\n",
        "    pass\n",
        "\n",
        "  def __contains__(self, value):\n",
        "    \"\"\"\n",
        "    Checks existence of value in the Multiset.\n",
        "    __contains__: Multiset Any -> Bool\n",
        "    :param value: the value to be check.\n",
        "    :return: True if Multiset is in the Multiset and False otherwise.\n",
        "    \"\"\"\n",
        "    pass\n",
        "\n",
        "  def add(self, value):\n",
        "    \"\"\"\n",
        "    Adds the value to multiset.\n",
        "    :param value: the value to be added.\n",
        "    \"\"\"\n",
        "    pass\n",
        "\n",
        "  def delete(self, value):\n",
        "    \"\"\"\n",
        "    :param value: value first occurrence of which should be deleted.\n",
        "    \"\"\"\n",
        "    pass"
      ]
    },
    {
      "cell_type": "markdown",
      "metadata": {
        "id": "zP33G9r6Y8Ri"
      },
      "source": [
        "Вище наведені методи, які нам будуть потрібні під час взаємодії із цим типом даних."
      ]
    },
    {
      "cell_type": "markdown",
      "metadata": {
        "id": "9Wj-pK84Vffb"
      },
      "source": [
        "### Реалізація\n",
        "\n",
        "Тепер прийшов час реалізації цього типу даних."
      ]
    },
    {
      "cell_type": "markdown",
      "metadata": {
        "id": "QFXzyThRaIm8"
      },
      "source": [
        "#### Реалізація Node"
      ]
    },
    {
      "cell_type": "code",
      "execution_count": 2,
      "metadata": {
        "id": "MgQZEStwaG9g"
      },
      "outputs": [],
      "source": [
        "# A class implementing a node.\n",
        "\n",
        "class Node:\n",
        "\n",
        "    def __init__(self, item, next = None):\n",
        "        \"\"\"\n",
        "        Produces a newly constructed empty node.\n",
        "        __init__: Any -> Node\n",
        "        Fields: item stores any value\n",
        "            next points to the next node in the list\n",
        "        \"\"\"\n",
        "        self.item = item\n",
        "        self.next = next\n",
        "\n",
        "    def __str__(self):\n",
        "        \"\"\"\n",
        "        Prints the value stored in self.\n",
        "        __str__: Node -> Str\n",
        "        \"\"\"\n",
        "        return str(self.item)"
      ]
    },
    {
      "cell_type": "markdown",
      "metadata": {
        "id": "6nOqAa1HaAJD"
      },
      "source": [
        "#### Реалізація Multiset"
      ]
    },
    {
      "cell_type": "code",
      "execution_count": 3,
      "metadata": {
        "id": "ncWRmcrwaKJq"
      },
      "outputs": [],
      "source": [
        "# A class implementing Multiset as a linked list.\n",
        "\n",
        "class Multiset:\n",
        "\n",
        "    def __init__(self):\n",
        "        \"\"\"\n",
        "        Produces a newly constructed empty Multiset.\n",
        "        __init__: -> Multiset\n",
        "        Field: _head points to the first node in the linked list\n",
        "        \"\"\"\n",
        "        self._head = None\n",
        "\n",
        "    def empty(self):\n",
        "        \"\"\"\n",
        "        Checks emptiness of Multiset.\n",
        "        empty: Multiset -> Bool\n",
        "        :return: True if Multiset is empty and False otherwise.\n",
        "        \"\"\"\n",
        "        return self._head == None\n",
        "\n",
        "    def __contains__(self, value):\n",
        "        \"\"\"\n",
        "        Checks existence of value in the Multiset.\n",
        "        __contains__: Multiset Any -> Bool\n",
        "        :param value: the value to be check.\n",
        "        :return: True if Multiset is in the Multiset and False otherwise.\n",
        "        \"\"\"\n",
        "        current = self._head\n",
        "        while current != None:\n",
        "            if current.item == value:\n",
        "                return True\n",
        "            else:\n",
        "                current = current.next\n",
        "        return False\n",
        "\n",
        "    def add(self, value):\n",
        "        \"\"\"\n",
        "        Adds the value to multiset.\n",
        "\n",
        "        :param value: the value to be added.\n",
        "        \"\"\"\n",
        "        if self._head is None:\n",
        "            self._head = Node(value)\n",
        "        else:\n",
        "            rest = self._head\n",
        "            self._head = Node(value)\n",
        "            self._head.next = rest\n",
        "\n",
        "    def delete(self, value):\n",
        "        \"\"\"\n",
        "\n",
        "        :param value: value first occurrence of which should be deleted.\n",
        "        \"\"\"\n",
        "        current = self._head\n",
        "        previous = None\n",
        "        while current is not None and current.item != value:\n",
        "            previous = current\n",
        "            current = current.next\n",
        "        if current is not None:\n",
        "            if previous is None:\n",
        "                self._head = self._head.next\n",
        "            else:\n",
        "                previous.next = current.next\n"
      ]
    },
    {
      "cell_type": "markdown",
      "metadata": {
        "id": "UpX9vlB3aB85"
      },
      "source": [
        "### Тестування\n",
        "\n",
        "Також важливим етапом створення ADT є їх тестування. Тому ось короткий код, який буде тестувати наш клас."
      ]
    },
    {
      "cell_type": "code",
      "execution_count": 4,
      "metadata": {
        "colab": {
          "base_uri": "https://localhost:8080/"
        },
        "id": "OGIV1vkFarO2",
        "outputId": "45fea1ae-f502-4f00-c712-0374ca36d32b"
      },
      "outputs": [
        {
          "name": "stdout",
          "output_type": "stream",
          "text": [
            "Yes, the set contains 55\n",
            "False\n",
            "Yes, the set contains 11\n",
            "False\n",
            "Yes, the set contains 11\n",
            "True\n"
          ]
        }
      ],
      "source": [
        "data_set = Multiset()\n",
        "data_list = \"55 11 11\"\n",
        "for value in data_list.split():\n",
        "    data_set.add(value)\n",
        "\n",
        "value = '55'\n",
        "if value in data_set:\n",
        "    print(\"Yes, the set contains\", value)\n",
        "    data_set.delete(value)\n",
        "\n",
        "value = '11'\n",
        "print(data_set.empty())\n",
        "\n",
        "if value in data_set:\n",
        "    print(\"Yes, the set contains\", value)\n",
        "    data_set.delete(value)\n",
        "\n",
        "print(data_set.empty())\n",
        "\n",
        "if value in data_set:\n",
        "    print(\"Yes, the set contains\", value)\n",
        "    data_set.delete(value)\n",
        "\n",
        "print(data_set.empty())"
      ]
    },
    {
      "cell_type": "code",
      "execution_count": 5,
      "metadata": {
        "id": "c60JeO2Jau5M"
      },
      "outputs": [
        {
          "name": "stdout",
          "output_type": "stream",
          "text": [
            "Yes, the set contains 3\n",
            "Yes, the set contains 2\n",
            "No, the set does not contain 7\n",
            "Yes, the set contains 1\n",
            "Yes, the set contains 4\n",
            "Yes, the set contains 5\n",
            "Sorry, there are no values left to guess.\n"
          ]
        }
      ],
      "source": [
        "data_set = Multiset()\n",
        "data_list = \"1 2 3 4 5\"\n",
        "for value in data_list.split():\n",
        "    data_set.add(value)\n",
        "\n",
        "value = input(\"Guess a value or type stop: \")\n",
        "empty = False\n",
        "\n",
        "while value != \"stop\" and not empty:\n",
        "    if value in data_set:\n",
        "        print(\"Yes, the set contains\", value)\n",
        "        data_set.delete(value)\n",
        "    else:\n",
        "        print(\"No, the set does not contain\", value)\n",
        "    if data_set.empty():\n",
        "        print(\"Sorry, there are no values left to guess.\")\n",
        "        empty = True\n",
        "    else:\n",
        "        value = input(\"Guess a value or type stop: \")"
      ]
    },
    {
      "cell_type": "markdown",
      "metadata": {
        "id": "-Jorlo8aaqyb"
      },
      "source": [
        "## Завдання 2\n",
        "\n",
        "> Розробити програму для представлення та здійснення математичних операцій з многочленами.\n",
        "\n",
        "Одразу перейдімо до реалізації типу даних для нашого завдання"
      ]
    },
    {
      "attachments": {},
      "cell_type": "markdown",
      "metadata": {
        "id": "gfgyvpcYPOhJ"
      },
      "source": [
        "### Визначення інтерфейсу\n",
        "\n",
        "Із самого початку нам варто зрозуміти, як ми будемо створювати наш многочлен. Опісля створення обʼєкту класу ми повинні додати нові члени до кінця многочлену. Так як ми будемо додавати наші члени від більшого степеня до меншого, тому нам варто зберігати останній доданий член, адже це пришвидшить доступ до нього. Цю інформацію варто запамʼятати, адже вона буде важливою при створення ADT.\n",
        "\n",
        "Ось методи, що будуть нам потрібні при реалізації:\n",
        "\n",
        "* `Polynomial()`\n",
        "* `Polynomial( degree, coefficient )`\n",
        "* `degree()`\n",
        "* `getitem( degree )`\n",
        "* `evaluate( scalar )`\n",
        "* `add ( rhs_poly )`\n",
        "* `subtract ( rhs_poly )`\n",
        "* `multiply ( rhs_poly )`\n",
        "\n",
        "Вони нам дозволять створити многочлени та виконати найлегші математичні взаємодії між ними."
      ]
    },
    {
      "cell_type": "markdown",
      "metadata": {
        "id": "cd0DTUJtSO_u"
      },
      "source": [
        "### Визначення структури даних\n",
        "\n",
        "Як ми говорили, найважливіший момент створення ADT це вибір структури даних, на який буде побудований абстрактний тип даних. Якщо зважати на те, що ми хочемо послідовно добавляти члени многочленів, стає зрозуміло, що нам варто використовувати однозвʼязний список, адже за допомогою нього буде легко створити такий послідовний звʼязок. Але також варто запамʼятовувати найменший член, який ми додали, адже це пришвидшить нам доступ та додавання нових значень. Отже якщо підсумувати, нам потрібен **однозвʼязний список із додатковим вказівником на останній елемент списку**.\n"
      ]
    },
    {
      "cell_type": "markdown",
      "metadata": {
        "id": "87bDwwfKUBw6"
      },
      "source": [
        "### Розроблення методів\n",
        "\n",
        "Тепер можемо написати ті методи, які потрібно буде реалізувати для нашого абстрактного типу даних"
      ]
    },
    {
      "cell_type": "code",
      "execution_count": 6,
      "metadata": {
        "id": "e-dKh328X2yl"
      },
      "outputs": [],
      "source": [
        "class Polynomial :\n",
        "  def __init__(self, degree = None,\n",
        "    coefficient = None):\n",
        "    # Create a new polynomial object.\n",
        "    pass\n",
        "\n",
        "  def degree(self):\n",
        "    # Return the degree of the polynomial.\n",
        "    pass\n",
        "    \n",
        "  def __getitem__(self, degree):\n",
        "    # Return the coefficient for the term of the given degree.\n",
        "    pass\n",
        "\n",
        "  def evaluate(self, scalar):\n",
        "    # Evaluate the polynomial at the given scalar value.\n",
        "    pass\n",
        "\n",
        "  def __add__(self, rhs_poly):\n",
        "    # Polynomial addition: newPoly = self + rhs_poly.\n",
        "    pass\n",
        "\n",
        "  def __sub__(self, rhs_poly):\n",
        "    # Polynomial subtraction: newPoly = self - rhs_poly.\n",
        "    pass\n",
        "\n",
        "  def __mul__(self, rhs_poly):\n",
        "    # Polynomial multiplication: newPoly = self * rhs_poly.\n",
        "    pass"
      ]
    },
    {
      "cell_type": "markdown",
      "metadata": {
        "id": "TrE9SRxWSLjq"
      },
      "source": [
        "### Реалізація\n",
        "\n",
        "#### PolyTermNode\n",
        "\n",
        "Це допоміжний клас для зберігання даних"
      ]
    },
    {
      "cell_type": "code",
      "execution_count": 7,
      "metadata": {
        "id": "kh-k-bnCYs0D"
      },
      "outputs": [],
      "source": [
        "# Class for creating polynomial term nodes used with the linked list.\n",
        "class _PolyTermNode(object):\n",
        "    def __init__(self, degree, coefficient):\n",
        "        self.degree = degree\n",
        "        self.coefficient = coefficient\n",
        "        self.next = None\n",
        "\n",
        "    def __str__(self):\n",
        "        \"\"\"\n",
        "        Prints the value stored in self.\n",
        "        __str__: Node -> Str\n",
        "        \"\"\"\n",
        "        return str(self.coefficient) + \"x\" + str(self.degree)"
      ]
    },
    {
      "cell_type": "markdown",
      "metadata": {
        "id": "9gJ36aGgY3MY"
      },
      "source": [
        "#### Polynomial"
      ]
    },
    {
      "cell_type": "code",
      "execution_count": 8,
      "metadata": {
        "id": "RRkpVhkMYqwj"
      },
      "outputs": [],
      "source": [
        "# Implementation of the Polynomial ADT using a sorted linked list.\n",
        "\n",
        "class Polynomial :\n",
        "    # Create a new polynomial object.\n",
        "    def __init__(self, degree = None, coefficient = None):\n",
        "        if degree is None :\n",
        "            self._poly_head = None\n",
        "        else :\n",
        "            self._poly_head = _PolyTermNode(degree, coefficient)\n",
        "        self._poly_tail = self._poly_head\n",
        "\n",
        "    # Return the degree of the polynomial.\n",
        "    def degree(self):\n",
        "        if self._poly_head is None :\n",
        "            return -1\n",
        "        else :\n",
        "            return self._poly_head.degree\n",
        "\n",
        "    # Return the coefficient for the term of the given degree.\n",
        "    def __getitem__(self, degree):\n",
        "        assert self.degree() >= 0, \"Operation not permitted on an empty polynomial.\"\n",
        "        cur_node = self._poly_head\n",
        "        while cur_node is not None and cur_node.degree > degree :\n",
        "            cur_node = cur_node.next\n",
        "\n",
        "        if cur_node is None or cur_node.degree != degree :\n",
        "            return 0.0\n",
        "        else :\n",
        "            return cur_node.coefficient\n",
        "\n",
        "    # Evaluate the polynomial at the given scalar value.\n",
        "    def evaluate(self, scalar):\n",
        "        assert self.degree() >= 0, \"Only non -empty polynomials can be evaluated.\"\n",
        "        result = 0.0\n",
        "        cur_node = self._poly_head\n",
        "        while cur_node is not None :\n",
        "            result += cur_node.coefficient * (scalar ** cur_node.degree)\n",
        "            cur_node = cur_node.next\n",
        "        return result\n",
        "\n",
        "    # Polynomial addition: newPoly = self + rhs_poly.\n",
        "    def __add__(self, rhs_poly):\n",
        "        pass\n",
        "\n",
        "    # Polynomial subtraction: newPoly = self - rhs_poly.\n",
        "    def __sub__(self, rhs_poly):\n",
        "        pass\n",
        "\n",
        "    # Polynomial multiplication: newPoly = self * rhs_poly.\n",
        "    def __mul__(self, rhs_poly):\n",
        "        pass\n",
        "\n",
        "    def simple_add(self, rhs_poly):\n",
        "        new_poly = Polynomial()\n",
        "        if self.degree() > rhs_poly.degree():\n",
        "            max_degree = self.degree()\n",
        "        else:\n",
        "            max_megree = rhs_poly.degree()\n",
        "\n",
        "        i = max_degree\n",
        "        while i >= 0:\n",
        "            value = self[i] + rhs_poly[i]\n",
        "            new_poly._append_term(i, value)\n",
        "            i -= 1\n",
        "        return new_poly\n",
        "    \n",
        "    # Helper method for appending terms to the polynomial.\n",
        "    def _append_term(self, degree, coefficient):\n",
        "        if coefficient != 0.0:\n",
        "            new_term =_PolyTermNode(degree, coefficient)\n",
        "            if self._poly_head is None:\n",
        "                self._poly_head = new_term \n",
        "            else:\n",
        "                self._poly_tail.next = new_term\n",
        "            self._poly_tail = new_term\n",
        "\n",
        "    def __str__(self):\n",
        "        pass"
      ]
    },
    {
      "cell_type": "markdown",
      "metadata": {
        "id": "SWsbqbBGY_nL"
      },
      "source": [
        "### Тестування"
      ]
    },
    {
      "cell_type": "code",
      "execution_count": 11,
      "metadata": {
        "colab": {
          "base_uri": "https://localhost:8080/"
        },
        "id": "FyrEkuPoRsfY",
        "outputId": "3ac3efbc-2211-4e22-bb31-9bfce07decca"
      },
      "outputs": [
        {
          "name": "stdout",
          "output_type": "stream",
          "text": [
            "4.0\n",
            "3.0\n",
            "5.0\n",
            "2.0 9.0 3.0 0.0\n",
            "None\n",
            "None\n",
            "None\n"
          ]
        }
      ],
      "source": [
        "poly1 = Polynomial()\n",
        "poly2 = Polynomial()\n",
        "\n",
        "data_list_1 = [[4, 7],\n",
        "              [2, 5],\n",
        "              [1, 3],\n",
        "              [0, 10]]\n",
        "data_list_2 = [[3, 2],\n",
        "              [2, 4],\n",
        "              [0, 3]]\n",
        "\n",
        "for line in data_list_1:\n",
        "    degree, coefficient = line\n",
        "    poly1._append_term(float(degree), float(coefficient))\n",
        "\n",
        "for line in data_list_2:\n",
        "    degree, coefficient = line\n",
        "    poly2._append_term(float(degree), float(coefficient))\n",
        "\n",
        "print(poly1.degree())\n",
        "print(poly2.degree())\n",
        "\n",
        "print(poly1[2.0])\n",
        "\n",
        "new_p = poly1.simple_add(poly2)\n",
        "print(new_p[3.0], new_p[2.0],new_p[1.0],new_p[0.0])\n",
        "\n",
        "print(poly1 + poly2)\n",
        "print(poly1 - poly2)\n",
        "print(poly1 * poly2)"
      ]
    }
  ],
  "metadata": {
    "colab": {
      "provenance": []
    },
    "kernelspec": {
      "display_name": "Python 3",
      "name": "python3"
    },
    "language_info": {
      "codemirror_mode": {
        "name": "ipython",
        "version": 3
      },
      "file_extension": ".py",
      "mimetype": "text/x-python",
      "name": "python",
      "nbconvert_exporter": "python",
      "pygments_lexer": "ipython3",
      "version": "3.11.2"
    }
  },
  "nbformat": 4,
  "nbformat_minor": 0
}