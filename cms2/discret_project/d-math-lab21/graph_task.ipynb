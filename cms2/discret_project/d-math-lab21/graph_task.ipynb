{
 "cells": [
  {
   "attachments": {},
   "cell_type": "markdown",
   "metadata": {},
   "source": [
    "# Task with graphs"
   ]
  },
  {
   "attachments": {},
   "cell_type": "markdown",
   "metadata": {},
   "source": [
    "## Helping function and imports"
   ]
  },
  {
   "attachments": {},
   "cell_type": "markdown",
   "metadata": {},
   "source": [
    "This module allows you to generate graphs for further testing of algorithms. It was set at the beginning of work."
   ]
  },
  {
   "cell_type": "code",
   "execution_count": 31,
   "metadata": {},
   "outputs": [],
   "source": [
    "from itertools import combinations, groupby\n",
    "import random\n",
    "import networkx as nx\n",
    "import matplotlib.pyplot as plt\n",
    "\n",
    "\n",
    "# You can use this function to generate a random graph with 'num_of_nodes' nodes\n",
    "# and 'completeness' probability of an edge between any two nodes\n",
    "# If 'directed' is True, the graph will be directed\n",
    "# If 'draw' is True, the graph will be drawn\n",
    "def gnp_random_connected_graph(num_of_nodes: int,\n",
    "                               completeness: int,\n",
    "                               directed: bool = False,\n",
    "                               draw: bool = False):\n",
    "    \"\"\"\n",
    "    Generates a random graph, similarly to an Erdős-Rényi\n",
    "    graph, but enforcing that the resulting graph is conneted (in case of undirected graphs)\n",
    "    \"\"\"\n",
    "\n",
    "    if directed:\n",
    "        G = nx.DiGraph()\n",
    "    else:\n",
    "        G = nx.Graph()\n",
    "    edges = combinations(range(num_of_nodes), 2)\n",
    "    G.add_nodes_from(range(num_of_nodes))\n",
    "\n",
    "    for _, node_edges in groupby(edges, key=lambda x: x[0]):\n",
    "        node_edges = list(node_edges)\n",
    "        random_edge = random.choice(node_edges)\n",
    "        if random.random() < 0.5:\n",
    "            random_edge = random_edge[::-1]\n",
    "        G.add_edge(*random_edge)\n",
    "        for e in node_edges:\n",
    "            if random.random() < completeness:\n",
    "                G.add_edge(*e)\n",
    "\n",
    "    for (u, v, w) in G.edges(data=True):\n",
    "        w['weight'] = random.randint(0, 20)\n",
    "\n",
    "    if draw:\n",
    "        plt.figure(figsize=(10, 6))\n",
    "        if directed:\n",
    "            # draw with edge weights\n",
    "            pos = nx.arf_layout(G)\n",
    "            nx.draw(G, pos, node_color='lightblue',\n",
    "                    with_labels=True,\n",
    "                    node_size=500,\n",
    "                    arrowsize=20,\n",
    "                    arrows=True)\n",
    "            labels = nx.get_edge_attributes(G, 'weight')\n",
    "            nx.draw_networkx_edge_labels(G, pos, edge_labels=labels)\n",
    "\n",
    "        else:\n",
    "            nx.draw(G, node_color='lightblue',\n",
    "                    with_labels=True,\n",
    "                    node_size=500)\n",
    "\n",
    "    return G"
   ]
  },
  {
   "attachments": {},
   "cell_type": "markdown",
   "metadata": {},
   "source": [
    "## Task 1.1.1. Prim algorithm"
   ]
  },
  {
   "attachments": {},
   "cell_type": "markdown",
   "metadata": {},
   "source": [
    "Модулі prim.py, kruskal.py містять по одній функції: prim_algo(), kruskal_algo() - відповідно. \n",
    "Ці функції дозволяють реалізувати роботу своїх алгоритмів, для знаходження від відстані від вказаної вершини, до решти вершин у графі, у якому кожне ребро має вагу.\n",
    "На вхід, та на вихід у цих функціях подається граф у форматі nx.Graph, який генерує модуль generate_graph.py.\n",
    "\n",
    "prim_algo() - функція, яка реалізовує роботу алгоритму Прима: створюються новий граф (у який буде записано результат), та змінна для збереження відвіданих вершин. Проходимось по графу, поки в heapq є ребра або поки ми не отримаємо всі вершини . При кожній ітерації, В дереві беремо найменшої ваги ребро. Якщо вершина вже в дереві, тоді пропускаємо ітерацію. Псля чого додаємо всі ребра від вершини до N до heapq.\n",
    "(Процес описано в коментарях до кожного коду)"
   ]
  },
  {
   "cell_type": "code",
   "execution_count": 32,
   "metadata": {},
   "outputs": [],
   "source": [
    "from heapq import heappush, heappop\n",
    "\n",
    "def prim_algo(graph: nx.Graph, start=0):\n",
    "    \"\"\"This function applies Prim's algorithm to the given graph.\n",
    "\n",
    "    Args:\n",
    "        graph (nx.Graph): original graph\n",
    "        start (int, optional): node where to start. Defaults to 0.\n",
    "\n",
    "    Returns:\n",
    "        nx.Graph: minimum spanning edges\n",
    "    \"\"\"\n",
    "    visited = {start}\n",
    "    tree = nx.Graph()\n",
    "\n",
    "    # heapq -- data structure that always looks like SORTED list\n",
    "    # and the first item is always the least\n",
    "    heapq = []\n",
    "\n",
    "    # initialize. add data to heapq\n",
    "    for node, weight in graph.adj[start].items():\n",
    "        weight = weight['weight']\n",
    "        heappush(heapq, (weight, start, node))\n",
    "\n",
    "    # while there's edges in heapq or not all nodes are in tree\n",
    "    while heapq and len(visited) != graph.number_of_nodes():\n",
    "        # get least edge\n",
    "        weight, node1, node2 = heappop(heapq)\n",
    "\n",
    "        # this node is already in tree\n",
    "        if node2 in visited:\n",
    "            continue\n",
    "\n",
    "        tree.add_edge(node1, node2, weight=weight)\n",
    "        visited.add(node2)\n",
    "\n",
    "        # add all edges from node to N to heapq\n",
    "        for node, weight in graph.adj[node2].items():\n",
    "            if node in visited:\n",
    "                continue\n",
    "\n",
    "            weight = weight['weight']\n",
    "            heappush(heapq, (weight, start, node))\n",
    "        \n",
    "    return tree"
   ]
  },
  {
   "attachments": {},
   "cell_type": "markdown",
   "metadata": {},
   "source": [
    "## Task 1.1.2. Kruskal algorithm"
   ]
  },
  {
   "attachments": {},
   "cell_type": "markdown",
   "metadata": {},
   "source": [
    "kruskal_algo() - функція модуля kruskal.py створена для реалізації алгоритму Крускала.\n",
    "nx.Graph на вхід. Перетворюємо граф у зручний вигляд та сортуємо за вагою. Ітеруємось по сортованому графу, починаючи з найменшої ваги. Знайти в яких деревах перший і другий вузли.  Перевіряємо, чи вони на тих самих циклах. Якщо так, тоді пропускаємо ітерацію, щоб не утворювати цикл. Якщо ж ні, тоді добавляємо до результату та оновлюємо данні."
   ]
  },
  {
   "cell_type": "code",
   "execution_count": 33,
   "metadata": {},
   "outputs": [],
   "source": [
    "def kruskal_algo(graph: nx.Graph) -> nx.Graph:\n",
    "    \"\"\"make minimum spanning edges by Kruskal's algorithm\n",
    "\n",
    "    Args:\n",
    "        graph (nx.Graph): original graph\n",
    "\n",
    "    Returns:\n",
    "        nx.Graph: minimum spanning edges\n",
    "    \"\"\"\n",
    "    trees = [set([i]) for i in graph.nodes()]\n",
    "\n",
    "    # graph represented in (v1, v2, {'weight': w}) and sorted by weight\n",
    "    graph = sorted(graph.edges(data=True), key=lambda x: x[2]['weight'])\n",
    "\n",
    "    result = nx.Graph()\n",
    "\n",
    "    while graph and len(trees) > 1:\n",
    "        node1, node2, weight = graph.pop(0)\n",
    "        weight = weight['weight']\n",
    "\n",
    "        first_tree, second_tree = None, None\n",
    "\n",
    "        # find in which trees the first and second nodes are\n",
    "        for tree in trees:\n",
    "            if node1 in tree:\n",
    "                first_tree = tree\n",
    "\n",
    "            if node2 in tree:\n",
    "                second_tree = tree\n",
    "\n",
    "            # found 1 and 2 trees\n",
    "            if first_tree and second_tree:\n",
    "                break\n",
    "\n",
    "        # they are in the same trees,\n",
    "        # so they would do a cycle if we connect them\n",
    "        if first_tree == second_tree:\n",
    "            continue\n",
    "\n",
    "        # add to result\n",
    "        result.add_edge(node1, node2, weight=weight)\n",
    "\n",
    "        # extend first tree with the second by reference\n",
    "        # (it will change anywhere)\n",
    "        # and delete second tree\n",
    "        first_tree.update(second_tree)\n",
    "        del trees[trees.index(second_tree)]\n",
    "\n",
    "    return result\n"
   ]
  },
  {
   "attachments": {},
   "cell_type": "markdown",
   "metadata": {},
   "source": [
    "## Comparison\n",
    "Як ми можемо бачити з порівняння, яке наведено нижче, у якому було взято графи різних розмірів, та з різними параметрами, то алгоритм Прима працює дещо швидше, за алгоритм Крускала.\n",
    "Також, алгоритми прописані нами працюють швидше вбудованих.\n",
    "\n",
    "Також варто зазначити, що деколи значення різняться, оскільки потрапляють різні графи, на які йде дещо різна кількість часу. Зокрема, йдеться про графи із циклами відємної ваги."
   ]
  },
  {
   "cell_type": "code",
   "execution_count": 34,
   "metadata": {},
   "outputs": [
    {
     "name": "stdout",
     "output_type": "stream",
     "text": [
      "Own Prim algorithm with 5 nodes: 2.8848648071289062e-05s\n",
      "Networkx Prim algorithm with 5 nodes: 5.9604644775390625e-06s\n",
      "\n",
      "Own Kruskal algorithm with 5 nodes: 2.9802322387695312e-05s\n",
      "Networkx Kruskal algorithm with 5 nodes: 2.1457672119140625e-06s\n",
      "\n",
      "Own Prim algorithm with 10 nodes: 2.9087066650390625e-05s\n",
      "Networkx Prim algorithm with 10 nodes: 9.5367431640625e-07s\n",
      "\n",
      "Own Kruskal algorithm with 10 nodes: 3.600120544433594e-05s\n",
      "Networkx Kruskal algorithm with 10 nodes: 7.152557373046875e-07s\n",
      "\n",
      "Own Prim algorithm with 20 nodes: 0.00015687942504882812s\n",
      "Networkx Prim algorithm with 20 nodes: 7.152557373046875e-07s\n",
      "\n",
      "Own Kruskal algorithm with 20 nodes: 0.00010609626770019531s\n",
      "Networkx Kruskal algorithm with 20 nodes: 1.1920928955078125e-06s\n",
      "\n",
      "Own Prim algorithm with 50 nodes: 0.00041484832763671875s\n",
      "Networkx Prim algorithm with 50 nodes: 1.9073486328125e-06s\n",
      "\n",
      "Own Kruskal algorithm with 50 nodes: 0.0004951953887939453s\n",
      "Networkx Kruskal algorithm with 50 nodes: 2.1457672119140625e-06s\n",
      "\n",
      "Own Prim algorithm with 100 nodes: 0.0015611648559570312s\n",
      "Networkx Prim algorithm with 100 nodes: 8.344650268554688e-06s\n",
      "\n",
      "Own Kruskal algorithm with 100 nodes: 0.002019166946411133s\n",
      "Networkx Kruskal algorithm with 100 nodes: 4.0531158447265625e-06s\n",
      "\n",
      "Own Prim algorithm with 500 nodes: 0.034935951232910156s\n",
      "Networkx Prim algorithm with 500 nodes: 1.1920928955078125e-05s\n",
      "\n",
      "Own Kruskal algorithm with 500 nodes: 0.157850980758667s\n",
      "Networkx Kruskal algorithm with 500 nodes: 8.106231689453125e-06s\n",
      "\n"
     ]
    }
   ],
   "source": [
    "from time import time\n",
    "from networkx.algorithms import tree\n",
    "\n",
    "\n",
    "for size in [5, 10, 20, 50, 100, 500]:\n",
    "    graph = gnp_random_connected_graph(size, 0.8)\n",
    "\n",
    "    start = time()\n",
    "    prim_algo(graph)\n",
    "    print(f\"Own Prim algorithm with {size} nodes: {time() - start}s\")\n",
    "\n",
    "    start = time()\n",
    "    tree.minimum_spanning_edges(graph, algorithm='prim')\n",
    "    print(f\"Networkx Prim algorithm with {size} nodes: {time() - start}s\")\n",
    "    print()\n",
    "    \n",
    "    start = time()\n",
    "    kruskal_algo(graph)\n",
    "    print(f\"Own Kruskal algorithm with {size} nodes: {time() - start}s\")\n",
    "\n",
    "    start = time()\n",
    "    tree.minimum_spanning_edges(graph, algorithm='kruskal')\n",
    "    print(f\"Networkx Kruskal algorithm with {size} nodes: {time() - start}s\")\n",
    "    print()"
   ]
  },
  {
   "attachments": {},
   "cell_type": "markdown",
   "metadata": {},
   "source": [
    "## Task 1.2.1. Bellman-Ford"
   ]
  },
  {
   "attachments": {},
   "cell_type": "markdown",
   "metadata": {},
   "source": [
    "bellman_ford_algo() - функція модуля bellman_Ford.py, створена для реалізації алгоритму Белмана-Форда, для знаходження відстані між будь-якими двома вершинами у графі.\n",
    "\n",
    "Як вхідні данні задається згенерований граф, та стартова вершина(за бажанням).\n",
    "Спочатку, ініціалізувується довжину та встановлюється початок - 0. Потім створюється шлях. Після чого заходимо у цикл, у якому проходимо ітерацій скільки, скільки є вершин у графі - 1 (n-1). При кожні й ітерації, для кожного ребра порівнюємо поточний шлях і шлях до вершини + шлях від node1 до node2, якщо він більший за запропонований, тоді оновлюємо данні. В кінці робимо n-ну перевіру для того, щоб визначити наявність циклу з відємною вагою (якщо при ітерації данні змінилися, тоді він там наявний)."
   ]
  },
  {
   "cell_type": "code",
   "execution_count": 35,
   "metadata": {},
   "outputs": [],
   "source": [
    "from math import inf\n",
    "\n",
    "def bellman_ford_algo(\n",
    "        graph: nx.Graph,\n",
    "        start_vertex=0\n",
    "    ) -> tuple[dict[int, list[int]], dict[int, int]]:\n",
    "    \"\"\"Bellman-Ford algorithm. Find the shortest way from selected node to\n",
    "    every else\n",
    "\n",
    "    Args:\n",
    "        graph (nx.Graph): original graph\n",
    "        start_vertex (int, optional): selected node. Defaults to 0.\n",
    "\n",
    "    Returns:\n",
    "        tuple[dict[int, list[int]], dict[int, int]]: 1st dict is the shortest \n",
    "            path to current node. 2nd element is lengths of shortest paths\n",
    "    \"\"\"\n",
    "    nodes = graph.nodes\n",
    "    edges = graph.edges(data=True)\n",
    "\n",
    "    # initialize lengths and set start to 0\n",
    "    lengths = {vertex: inf for vertex in nodes}\n",
    "    lengths[start_vertex] = 0\n",
    "\n",
    "    # initialize path\n",
    "    path = {vertex: [] for vertex in nodes}\n",
    "    path[start_vertex] = [start_vertex]\n",
    "\n",
    "    # do n - 1 iterations\n",
    "    for _ in range(len(nodes) - 1):\n",
    "        # for every edge\n",
    "        for node1, node2, weight in edges:\n",
    "            weight = weight['weight']\n",
    "\n",
    "            # compare current path and path to node1 + path from node1 to node2\n",
    "            if lengths[node2] > (new_length := lengths[node1] + weight):\n",
    "                lengths[node2] = new_length\n",
    "                path[node2] = path[node1] + [node2]\n",
    "\n",
    "    # control iteration. If smth changes -- there's negative cycle\n",
    "    for node1, node2, weight in edges:\n",
    "        weight = weight['weight']\n",
    "\n",
    "        if lengths[node2] > lengths[node1] + weight:\n",
    "            return None # because graph have negative cycle\n",
    "\n",
    "    return path, lengths"
   ]
  },
  {
   "attachments": {},
   "cell_type": "markdown",
   "metadata": {},
   "source": [
    "## Bellman-Ford comparison"
   ]
  },
  {
   "attachments": {},
   "cell_type": "markdown",
   "metadata": {},
   "source": [
    "Наш алгоритм працює дещо повільніше за вбудований, особливо це видно на більшій кількості вершин.\n",
    "\n",
    "Також варто зазначити, як у випадку з порівнянням Прима та Крускала, деколи значення різняться, оскільки потрапляють різні графи, на які йде дещо різна кількість часу. Зокрема, йдеться про графи із циклами відємної ваги."
   ]
  },
  {
   "cell_type": "code",
   "execution_count": 36,
   "metadata": {},
   "outputs": [
    {
     "name": "stdout",
     "output_type": "stream",
     "text": [
      "Own Bellman-Ford algorithm with 5 nodes: 2.09808349609375e-05s\n",
      "Networkx Bellman-Ford algorithm with 5 nodes: 2.574920654296875e-05s\n",
      "\n",
      "Own Bellman-Ford algorithm with 10 nodes: 5.7697296142578125e-05s\n",
      "Networkx Bellman-Ford algorithm with 10 nodes: 2.8848648071289062e-05s\n",
      "\n",
      "Own Bellman-Ford algorithm with 20 nodes: 0.0003998279571533203s\n",
      "Networkx Bellman-Ford algorithm with 20 nodes: 6.008148193359375e-05s\n",
      "\n",
      "Own Bellman-Ford algorithm with 50 nodes: 0.00617218017578125s\n",
      "Networkx Bellman-Ford algorithm with 50 nodes: 0.00027179718017578125s\n",
      "\n",
      "Own Bellman-Ford algorithm with 100 nodes: 0.04587268829345703s\n",
      "Networkx Bellman-Ford algorithm with 100 nodes: 0.000827789306640625s\n",
      "\n",
      "Own Bellman-Ford algorithm with 500 nodes: 6.700303316116333s\n",
      "Networkx Bellman-Ford algorithm with 500 nodes: 0.014615774154663086s\n",
      "\n"
     ]
    }
   ],
   "source": [
    "for size in [5, 10, 20, 50, 100, 500]:\n",
    "    graph = gnp_random_connected_graph(size, 0.8, True)\n",
    "\n",
    "    start = time()\n",
    "    bellman_ford_algo(graph)\n",
    "    print(f\"Own Bellman-Ford algorithm with {size} nodes: {time() - start}s\")\n",
    "\n",
    "    start = time()\n",
    "    nx.single_source_bellman_ford(graph, 0)\n",
    "    print(f\"Networkx Bellman-Ford algorithm with {size} nodes: {time() - start}s\")\n",
    "\n",
    "    print()"
   ]
  },
  {
   "attachments": {},
   "cell_type": "markdown",
   "metadata": {},
   "source": [
    "## Task 1.2.2. Floyd-Warshall"
   ]
  },
  {
   "attachments": {},
   "cell_type": "markdown",
   "metadata": {},
   "source": [
    "floyd_warshall() - функція модуля floyd_warshall.py, створена для реалізації алгоритму Флойда-Воршала, для знаходження відстані між будь-якими двома вершинами у графі.\n",
    "\n",
    "Створюємо матрицю суміжності, та заповнюємо її комірки нескінечністями. Встановлюємо всі значення, та присвоюємо діагоналі значення 0-ів. \n",
    "\n",
    "Далі йде робота з матрицями: циклом проходимось по параметрах діагоналі матриці(k), фіксуємо рядок і стовбець які перетинаються на k-тому елементі, та для кожного з вибраних рядків перевіряємо порівнюємо значення яке вже знаходиться у комірці не фіксованої матриці, та значення утворене при додавання елементів з фіксованого рядка та стовбця, піля чого записуємо у комірку мінімальне з них. \n",
    "\n",
    "Після чого перевіряємо чи не змінилася діагогналь, якщо так, тоді у графі є цикл відємної ваги, й повертаємо повідомлення про це."
   ]
  },
  {
   "cell_type": "code",
   "execution_count": 37,
   "metadata": {},
   "outputs": [],
   "source": [
    "from math import inf\n",
    "\n",
    "def floyd_warshall(graph: nx.Graph) -> list[list[int | float]] | None:\n",
    "    \"\"\"Floyd-Warshall algorithm\n",
    "\n",
    "    Args:\n",
    "        graph (nx.Graph): original graph\n",
    "\n",
    "    Returns:\n",
    "        list[list[int | float]] | None: distances\n",
    "    \"\"\"\n",
    "    # create adjacency matrix\n",
    "    nodes_count = len(graph.nodes)\n",
    "    # init matrix with default value inf\n",
    "    matrix = [[inf] * nodes_count for _ in range(nodes_count)]\n",
    "\n",
    "    # set all values\n",
    "    for edge in graph.edges(data=True):\n",
    "        matrix[edge[0]][edge[1]] = edge[2]['weight']\n",
    "\n",
    "    nodes_range = range(nodes_count)\n",
    "\n",
    "    # set main diagonal to 0\n",
    "    for i in nodes_range:\n",
    "        matrix[i][i] = 0\n",
    "\n",
    "    for k in nodes_range:\n",
    "        for i in nodes_range:\n",
    "            for j in nodes_range:\n",
    "                matrix[i][j] = min(matrix[i][k] + matrix[k][j], matrix[i][j])\n",
    "\n",
    "            if matrix[i][i] < 0:\n",
    "                print(\"Negative cycle detected\")\n",
    "                return None\n",
    "\n",
    "    return matrix\n"
   ]
  },
  {
   "attachments": {},
   "cell_type": "markdown",
   "metadata": {},
   "source": [
    "## Floyd-Warshall comparison"
   ]
  },
  {
   "attachments": {},
   "cell_type": "markdown",
   "metadata": {},
   "source": [
    "Наш алгоритм Флойда-Воршала працює 'чуть' повільніше за вбудований алгоритм.\n",
    "\n",
    "Також варто зазначити, як і у попередніх випадках, що деколи результати різняться, оскільки потрапляють різні графи, на які йде дещо різна кількість часу. Зокрема, йдеться про графи із циклами відємної ваги."
   ]
  },
  {
   "cell_type": "code",
   "execution_count": 38,
   "metadata": {},
   "outputs": [
    {
     "name": "stdout",
     "output_type": "stream",
     "text": [
      "Own Floyd-Warshall algorithm with 5 nodes: 2.9087066650390625e-05s\n",
      "Networkx Floyd-Warshall algorithm with 5 nodes: 3.2901763916015625e-05s\n",
      "\n",
      "Own Floyd-Warshall algorithm with 10 nodes: 0.0001239776611328125s\n",
      "Networkx Floyd-Warshall algorithm with 10 nodes: 0.00010704994201660156s\n",
      "\n",
      "Own Floyd-Warshall algorithm with 20 nodes: 0.000881195068359375s\n",
      "Networkx Floyd-Warshall algorithm with 20 nodes: 0.0006251335144042969s\n",
      "\n",
      "Own Floyd-Warshall algorithm with 50 nodes: 0.013442039489746094s\n",
      "Networkx Floyd-Warshall algorithm with 50 nodes: 0.008614301681518555s\n",
      "\n",
      "Own Floyd-Warshall algorithm with 100 nodes: 0.10468912124633789s\n",
      "Networkx Floyd-Warshall algorithm with 100 nodes: 0.05923199653625488s\n",
      "\n"
     ]
    }
   ],
   "source": [
    "for size in [5, 10, 20, 50, 100]:\n",
    "    graph = gnp_random_connected_graph(size, 0.8, True)\n",
    "\n",
    "    start = time()\n",
    "    floyd_warshall(graph)\n",
    "    print(f\"Own Floyd-Warshall algorithm with {size} nodes: {time() - start}s\")\n",
    "\n",
    "    start = time()\n",
    "    nx.floyd_warshall(graph)\n",
    "    print(f\"Networkx Floyd-Warshall algorithm with {size} nodes: {time() - start}s\")\n",
    "\n",
    "    print()"
   ]
  }
 ],
 "metadata": {
  "kernelspec": {
   "display_name": "Python 3",
   "language": "python",
   "name": "python3"
  },
  "language_info": {
   "codemirror_mode": {
    "name": "ipython",
    "version": 3
   },
   "file_extension": ".py",
   "mimetype": "text/x-python",
   "name": "python",
   "nbconvert_exporter": "python",
   "pygments_lexer": "ipython3",
   "version": "3.10.5"
  },
  "orig_nbformat": 4,
  "vscode": {
   "interpreter": {
    "hash": "63963b3f4c440940f0b94a3100916033a226cb4f45979123153792d60aa56d6a"
   }
  }
 },
 "nbformat": 4,
 "nbformat_minor": 2
}
