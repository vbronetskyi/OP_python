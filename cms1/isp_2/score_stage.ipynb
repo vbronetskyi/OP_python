{
 "cells": [
  {
   "cell_type": "code",
   "execution_count": 9,
   "metadata": {},
   "outputs": [
    {
     "name": "stdout",
     "output_type": "stream",
     "text": [
      "11\n"
     ]
    }
   ],
   "source": [
    "def f(x): return x+5\n",
    "def g(x): return f(x-3)\n",
    "def h(x): return g(g(x)%f(x))\n",
    "def prob1(f, g, x):\n",
    "    if (x > 0):\n",
    "        return prob1(g, h, -f(x))\n",
    "    else:\n",
    "        return f(g(h(x)))\n",
    "\n",
    "print(prob1(g, f, 4))"
   ]
  },
  {
   "cell_type": "code",
   "execution_count": 10,
   "metadata": {},
   "outputs": [
    {
     "name": "stdout",
     "output_type": "stream",
     "text": [
      "ab-ac\n",
      "3\n",
      "020\n"
     ]
    }
   ],
   "source": [
    "def prob2(s):\n",
    "    t = s\n",
    "    s = s + 'b'\n",
    "    t = t + 'c'\n",
    "    print(s + '-' + t)\n",
    "    s = 'abcdba'\n",
    "    t = ''\n",
    "    v = chr(ord('b')-1)\n",
    "    c = 0\n",
    "    for w in s.split('b'):\n",
    "        c += 1\n",
    "        t = t + str(ord(w[0]) - ord(v))\n",
    "    print(c)\n",
    "    return t\n",
    "\n",
    "\n",
    "print(prob2('a'))"
   ]
  },
  {
   "cell_type": "code",
   "execution_count": 3,
   "metadata": {},
   "outputs": [
    {
     "name": "stdout",
     "output_type": "stream",
     "text": [
      "[[3], [3], [3]]\n"
     ]
    }
   ],
   "source": [
    "#prob3\n",
    "A = [[]]*3\n",
    "A[0].append(3)\n",
    "print(A)"
   ]
  },
  {
   "cell_type": "code",
   "execution_count": 6,
   "metadata": {},
   "outputs": [
    {
     "data": {
      "text/plain": [
       "True"
      ]
     },
     "execution_count": 6,
     "metadata": {},
     "output_type": "execute_result"
    }
   ],
   "source": [
    "#reasoning find x, y: prob4(x,y)=True\n",
    "def f(x1, x2, n):\n",
    "    d1 = (x1 // (10**n)) % 10\n",
    "    d2 = (x2 // (10**n)) % 10\n",
    "    if ((d1 > d2) and (d1 > 5)):\n",
    "        return d1\n",
    "    elif (d2 > d1):\n",
    "        return d2\n",
    "    elif ((d1 == 0) and (d2 == 0)):\n",
    "        return 42\n",
    "    elif ((d1 == 0) or (d2 == 0)):\n",
    "        return -10**10\n",
    "    else:\n",
    "        return 0\n",
    "\n",
    "def prob4(x, y):\n",
    "    z = 100*f(x,y,2) + 10*f(x,y,1) + f(x,y,0)\n",
    "    return ((f(x,y,3) == 42) and (z == 206))\n",
    "\n",
    "prob4(125,226)"
   ]
  },
  {
   "cell_type": "code",
   "execution_count": 5,
   "metadata": {},
   "outputs": [
    {
     "name": "stdout",
     "output_type": "stream",
     "text": [
      "18\n"
     ]
    }
   ],
   "source": [
    "#prob5\n",
    "def prob5(x = []):\n",
    "    x += [3]\n",
    "    return sum(x)\n",
    "\n",
    "print(prob5()+prob5()+prob5())"
   ]
  },
  {
   "cell_type": "code",
   "execution_count": 1,
   "metadata": {},
   "outputs": [
    {
     "name": "stdout",
     "output_type": "stream",
     "text": [
      "483\n"
     ]
    }
   ],
   "source": [
    "#take a look on ASCII table\n",
    "import string\n",
    "def prob6():\n",
    "    s = string.ascii_letters[2:]\n",
    "    e = 0\n",
    "    for c in s:\n",
    "        for d in s:\n",
    "            e += ord(c) - ord(d) + 4\n",
    "        return e\n",
    "\n",
    "print(prob6())"
   ]
  },
  {
   "cell_type": "code",
   "execution_count": 22,
   "metadata": {},
   "outputs": [
    {
     "name": "stdout",
     "output_type": "stream",
     "text": [
      "x = [112, 10]\n",
      "ct = (122, 10, 112)\n",
      "L = [50, 80, 112, 10]\n"
     ]
    }
   ],
   "source": [
    "import copy\n",
    "def prob7(x):\n",
    "    y = x\n",
    "    z = copy.copy(x)\n",
    "    x.append(10)\n",
    "    y[0] += 3\n",
    "    x = x[2:]\n",
    "    print(f'x = {x}')\n",
    "    x[-1] = x[1] + x[0]\n",
    "    z.pop(0)\n",
    "    return x[-1], y[-1], z[-1]\n",
    "\n",
    "L = [47, 80, 112]\n",
    "print(f'ct = {prob7(L)}')\n",
    "print(f'L = {L}')"
   ]
  },
  {
   "cell_type": "code",
   "execution_count": 23,
   "metadata": {},
   "outputs": [
    {
     "name": "stdout",
     "output_type": "stream",
     "text": [
      "48\n"
     ]
    }
   ],
   "source": [
    "def prob8(L):\n",
    "    return sum([int(d) for d in\n",
    "                    str([str(c*2)*2 for c in L*2])\n",
    "                    if d.isdigit()])\n",
    "                    \n",
    "print(prob8([4,5,6]))"
   ]
  },
  {
   "cell_type": "code",
   "execution_count": 26,
   "metadata": {},
   "outputs": [
    {
     "name": "stdout",
     "output_type": "stream",
     "text": [
      "[1]\n"
     ]
    }
   ],
   "source": [
    "def prob9(n):\n",
    "    return ([[[x]*x for x in range(n)]\n",
    "                    for y in [[z]*z\n",
    "                    for z in range(n)][n//2]][0][1])\n",
    "print(prob9(5)) "
   ]
  },
  {
   "cell_type": "code",
   "execution_count": 30,
   "metadata": {},
   "outputs": [
    {
     "name": "stdout",
     "output_type": "stream",
     "text": [
      "s3\n"
     ]
    }
   ],
   "source": [
    "def f(s):\n",
    "    s, d, prevc = s.replace(' ',''), dict(), 'x'\n",
    "    for c in s:\n",
    "        d[c], prevc = prevc, c\n",
    "    return ''.join([d.get(str(n), '') for n in range(10)])\n",
    "\n",
    "def prob10(s):\n",
    "    while (len(f(s)) > 1):\n",
    "        s = f(s)\n",
    "    return s\n",
    "\n",
    "print(prob10('Maine has 14 counties, and 432 towns.')) "
   ]
  },
  {
   "cell_type": "code",
   "execution_count": 31,
   "metadata": {},
   "outputs": [
    {
     "name": "stdout",
     "output_type": "stream",
     "text": [
      "25\n"
     ]
    }
   ],
   "source": [
    "def prob11(n):\n",
    "    def f(x):\n",
    "        return x and 2*x-1+f(x-1)\n",
    "    def g(x):\n",
    "        return x and 1+g(x//2)\n",
    "    while f(g(n)) != n:\n",
    "        n = f(g(n))\n",
    "    return n\n",
    "\n",
    "print(prob11(31))"
   ]
  },
  {
   "cell_type": "code",
   "execution_count": 32,
   "metadata": {},
   "outputs": [
    {
     "name": "stdout",
     "output_type": "stream",
     "text": [
      "32\n"
     ]
    }
   ],
   "source": [
    "def prob12(L):\n",
    "    def f(L):\n",
    "        return L if L == [ ] else [L[0]//2]*2 + f(L[1:])\n",
    "    if (set(L) == {0}):\n",
    "        return len(L)\n",
    "    else:\n",
    "        return prob12(f(L))\n",
    "\n",
    "print(prob12([2,8]))"
   ]
  },
  {
   "cell_type": "code",
   "execution_count": 33,
   "metadata": {},
   "outputs": [
    {
     "name": "stdout",
     "output_type": "stream",
     "text": [
      "9\n"
     ]
    }
   ],
   "source": [
    "import math\n",
    "\n",
    "def\tprob13(x, y=0, z=None):\n",
    "\t(x,\tz)\t=\t(int(x), z or int(x))\n",
    "\tif (x+y\t== 0): return 0\n",
    "\telif (y<0): return prob13(x-1, z, z)\n",
    "\telse: return 1 + prob13(x, y-1, z)\n",
    "\n",
    "print(prob13(math.pi))"
   ]
  },
  {
   "cell_type": "code",
   "execution_count": 34,
   "metadata": {},
   "outputs": [
    {
     "name": "stdout",
     "output_type": "stream",
     "text": [
      "[(0, 16), (1, 13), (2, 10), (3, 19)]\n"
     ]
    }
   ],
   "source": [
    "# Code Tracing #2 of 2\n",
    "def prob14():\n",
    "    (result, d) = (list(), dict())\n",
    "    for x in range(1,20,3):\n",
    "        d[x%4] = x\n",
    "    for key in sorted(d.keys()):\n",
    "        result.append((key, d[key]))\n",
    "    return result\n",
    "print(prob14())"
   ]
  },
  {
   "cell_type": "code",
   "execution_count": 46,
   "metadata": {},
   "outputs": [
    {
     "data": {
      "text/plain": [
       "True"
      ]
     },
     "execution_count": 46,
     "metadata": {},
     "output_type": "execute_result"
    }
   ],
   "source": [
    "#reasoning return true\n",
    "def prob15(lst):\n",
    "    d={}\n",
    "    while len(lst)>0:\n",
    "        key=lst.pop(0)\n",
    "        item=lst.pop(0)\n",
    "        d[key]=item\n",
    "    \n",
    "    if False in d.keys():\n",
    "        return False\n",
    "    \n",
    "    d[1].remove(1)\n",
    "\n",
    "    if d['cat']==3:\n",
    "        d[False]=d['dog']\n",
    "    else:\n",
    "        d['cat']=True\n",
    "\n",
    "    assert(len(d.values())==4)\n",
    "    \n",
    "    if d[1]=={'bird'}:\n",
    "        return d[False]\n",
    "    \n",
    "    return False\n",
    "\n",
    "prob15([1, {1,'bird'}, 'cat', 3, 'dog', True])"
   ]
  }
 ],
 "metadata": {
  "kernelspec": {
   "display_name": "Python 3",
   "language": "python",
   "name": "python3"
  },
  "language_info": {
   "codemirror_mode": {
    "name": "ipython",
    "version": 3
   },
   "file_extension": ".py",
   "mimetype": "text/x-python",
   "name": "python",
   "nbconvert_exporter": "python",
   "pygments_lexer": "ipython3",
   "version": "3.10.5 (tags/v3.10.5:f377153, Jun  6 2022, 16:14:13) [MSC v.1929 64 bit (AMD64)]"
  },
  "orig_nbformat": 4,
  "vscode": {
   "interpreter": {
    "hash": "63963b3f4c440940f0b94a3100916033a226cb4f45979123153792d60aa56d6a"
   }
  }
 },
 "nbformat": 4,
 "nbformat_minor": 2
}
