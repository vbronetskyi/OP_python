{
 "cells": [
  {
   "cell_type": "code",
   "execution_count": 3,
   "metadata": {},
   "outputs": [
    {
     "name": "stdout",
     "output_type": "stream",
     "text": [
      "b = 3\n",
      "a * b = 9\n",
      "6\n"
     ]
    }
   ],
   "source": [
    "def prob1(m):\n",
    "    a = m % 10\n",
    "    b = m // 100\n",
    "    c = a < b\n",
    "    if type(c) == int:\n",
    "        print(f\"c = {c}\")\n",
    "    elif type(c) == bool:\n",
    "        if b < 5:\n",
    "            b += 2\n",
    "        print(f'b = {b}')\n",
    "    if c == False:\n",
    "        print(f'a * b = {a * b}')\n",
    "    else:\n",
    "        print(f'a + b = {a + b}')\n",
    "    return b + a\n",
    "\n",
    "print(prob1(123))"
   ]
  },
  {
   "cell_type": "code",
   "execution_count": 10,
   "metadata": {},
   "outputs": [
    {
     "name": "stdout",
     "output_type": "stream",
     "text": [
      "2\n",
      "5\n",
      "11\n",
      "0\n"
     ]
    }
   ],
   "source": [
    "def f(x):\n",
    "    print(x)\n",
    "    x = 2 * x\n",
    "    return x + 1\n",
    "\n",
    "def g(x):\n",
    "    print(x)\n",
    "    return f(x + 3)\n",
    "\n",
    "def prob2(x):\n",
    "    x = x // 2\n",
    "    y = g(x)\n",
    "    print(y)\n",
    "    return y % (x + 3)\n",
    "\n",
    "print(prob2(5) - 1)"
   ]
  },
  {
   "cell_type": "code",
   "execution_count": 27,
   "metadata": {},
   "outputs": [
    {
     "name": "stdout",
     "output_type": "stream",
     "text": [
      "[1, 3]\n"
     ]
    }
   ],
   "source": [
    "def prob3(x, y=[]):\n",
    "    y.append(x)\n",
    "    return y\n",
    "\n",
    "a = prob3(1)\n",
    "b = prob3(2, [])\n",
    "c = prob3(3)\n",
    "\n",
    "print(c)"
   ]
  },
  {
   "cell_type": "code",
   "execution_count": 1,
   "metadata": {},
   "outputs": [
    {
     "data": {
      "text/plain": [
       "True"
      ]
     },
     "execution_count": 1,
     "metadata": {},
     "output_type": "execute_result"
    }
   ],
   "source": [
    "def prob4(x):\n",
    "    assert(isinstance(x, int))\n",
    "    def f(x): return ((x+x//x)**2 - (x-x**0)**2)\n",
    "    return (f(f(f(x))) - f(x) == 360)\n",
    "\n",
    "prob4(6)"
   ]
  },
  {
   "cell_type": "code",
   "execution_count": 8,
   "metadata": {},
   "outputs": [
    {
     "name": "stdout",
     "output_type": "stream",
     "text": [
      "x = [10, 25]\n",
      "y = [[10, 25], [25, 5], 112]\n",
      "z = [[10], [25, 5]]\n",
      "L = [[10, 25], [25, 5], 112]\n"
     ]
    }
   ],
   "source": [
    "import copy\n",
    "def prob5(x):\n",
    "    y = x\n",
    "    z = copy.copy(x)\n",
    "    y += [112]\n",
    "    x[0] = y[0] + y[1]\n",
    "    z[1].append(5)\n",
    "    x = x[0]\n",
    "    print(f'x = {x}')\n",
    "    print(f'y = {y}')\n",
    "    print(f'z = {z}')\n",
    "\n",
    "L = [[10],[25]]\n",
    "prob5(L)\n",
    "print(f'L = {L}')"
   ]
  },
  {
   "cell_type": "code",
   "execution_count": 11,
   "metadata": {},
   "outputs": [
    {
     "name": "stdout",
     "output_type": "stream",
     "text": [
      "{3: {(5, 3), True, 3, 'm'}, 'm': {True, 'm'}, True: 2, (5, 3): True}\n"
     ]
    }
   ],
   "source": [
    "def prob6(L):\n",
    "    a = set()\n",
    "    b = set()\n",
    "    c = dict()\n",
    "    d = c\n",
    "    for item in L:\n",
    "        if item in a:\n",
    "            b.add(item)\n",
    "        a.add(item)\n",
    "    \n",
    "    c[L[0]] = a\n",
    "    c[L[1]] = b\n",
    "    c[L[2]] = len(a)\n",
    "    c[L[3]] = len(b)\n",
    "    x = (d == c)\n",
    "    c[L[4]] = x\n",
    "    return c\n",
    "    \n",
    "print(prob6([3, 'm', True, True, (5,3), 'm']))"
   ]
  },
  {
   "cell_type": "code",
   "execution_count": 12,
   "metadata": {},
   "outputs": [
    {
     "name": "stdout",
     "output_type": "stream",
     "text": [
      "2: 1\n",
      "2: 2\n",
      "1: 3\n",
      "1: 3\n",
      "0: 6\n",
      "6\n"
     ]
    }
   ],
   "source": [
    "def prob7(L, depth = 0):\n",
    "    if len(L) == 1:\n",
    "        result = L[0]\n",
    "        print(f'{depth}: {result}')\n",
    "        return result\n",
    "    \n",
    "    if len(L) == 2:\n",
    "        result = L[0] - L[1]\n",
    "        print(f'{depth}: {result}')\n",
    "        return result\n",
    "    else:\n",
    "        m = len(L)//2\n",
    "        right = prob7(L[m:], depth+1)\n",
    "        left = prob7(L[:m], depth+1)\n",
    "        result = right + left\n",
    "        print(f'{depth}: {result}')\n",
    "        return result\n",
    "\n",
    "print(prob7([6, 3, 2, 5, 4]))"
   ]
  },
  {
   "cell_type": "code",
   "execution_count": 13,
   "metadata": {},
   "outputs": [
    {
     "name": "stdout",
     "output_type": "stream",
     "text": [
      "16253\n"
     ]
    }
   ],
   "source": [
    "def prob8(s):\n",
    "    if len(s) <= 1:\n",
    "        return s\n",
    "    else:\n",
    "        i = len(s)//2\n",
    "    return s[i] + prob8(s[i+1:]) + prob8(s[:i])\n",
    "\n",
    "print(prob8('35126'))"
   ]
  },
  {
   "cell_type": "code",
   "execution_count": 15,
   "metadata": {},
   "outputs": [
    {
     "name": "stdout",
     "output_type": "stream",
     "text": [
      "[5, 3, 1]\n"
     ]
    }
   ],
   "source": [
    "def prob9(n):\n",
    "    if n < 10:\n",
    "        return [n]\n",
    "    else:\n",
    "        return [n%10] + prob9(n//100)\n",
    "\n",
    "print(prob9(12345))"
   ]
  },
  {
   "cell_type": "code",
   "execution_count": 31,
   "metadata": {},
   "outputs": [
    {
     "name": "stdout",
     "output_type": "stream",
     "text": [
      "[[2, 2], [1], [3]]\n",
      "[[4], [2]]\n"
     ]
    }
   ],
   "source": [
    "#prints 2 lists containing lists\n",
    "import copy\n",
    "def prob10(L):\n",
    "    a = L\n",
    "    b = copy.copy(L)\n",
    "    c = copy.deepcopy(L)\n",
    "    b[0] = a[1] * a[1][0]\n",
    "    a[0][0] += a.pop()[0]\n",
    "    b[1] = c[0]\n",
    "    return b\n",
    "\n",
    "# Be careful to get the brackets and commas right!\n",
    "L = [[1],[2],[3]]\n",
    "print(prob10(L))\n",
    "print(L)"
   ]
  },
  {
   "cell_type": "code",
   "execution_count": 42,
   "metadata": {},
   "outputs": [
    {
     "name": "stdout",
     "output_type": "stream",
     "text": [
      "19\n"
     ]
    }
   ],
   "source": [
    "def\tprob11(f, n): return 1 if (n ==\t0) else f(n) + prob11(g(f),\tn-1)\n",
    "def\tg(f): return (lambda\tn:\tf(f(n)))\n",
    "def\tf(n): return n+5\t\n",
    "print(prob11(f,\t2))\n"
   ]
  },
  {
   "cell_type": "code",
   "execution_count": 1,
   "metadata": {},
   "outputs": [
    {
     "name": "stdout",
     "output_type": "stream",
     "text": [
      "('fbbeee', {'f', 'e', 'b'})\n"
     ]
    }
   ],
   "source": [
    "import string\n",
    "\n",
    "def keyFn(val): return (ord(val) - ord('a'))%5\n",
    "\n",
    "def prob12(st):\n",
    "    (result, i) = (\"\", 1)\n",
    "    for c in sorted(set(st) - set(st.upper()), key=keyFn):\n",
    "        (result, i) = (result + i*c, i+1)\n",
    "    return (result, set(result))\n",
    "\n",
    "print(prob12(\"bCDfCBe\"))"
   ]
  },
  {
   "cell_type": "code",
   "execution_count": 2,
   "metadata": {},
   "outputs": [
    {
     "name": "stdout",
     "output_type": "stream",
     "text": [
      "[18, 9]\n"
     ]
    }
   ],
   "source": [
    "def prob13(a):\n",
    "    (rows, cols) = (len(a), len(a[0]))\n",
    "    result = [0]*rows\n",
    "    for row in  range(rows):\n",
    "        for col in  range(0,cols,2):   #note the range!\n",
    "            result[row] +=  a[rows-1-row][col]  #   note indices!\n",
    "    return  result\n",
    "\n",
    "print(prob13([[1,2,3,4,5], \n",
    "           [2,4,6,8,10]]))"
   ]
  },
  {
   "cell_type": "code",
   "execution_count": 43,
   "metadata": {},
   "outputs": [
    {
     "name": "stdout",
     "output_type": "stream",
     "text": [
      "True\n",
      "True\n"
     ]
    }
   ],
   "source": [
    "def prob14(n):\n",
    "    a = n%10     # 2  8\n",
    "    b = n%100    #12 18\n",
    "    c = n//100   #10 10\n",
    "    return (b//6*6 == b) and (b == c + a) and (n > 1000) and (n < 2000)\n",
    "\n",
    "print(prob14(1012))\n",
    "print(prob14(1018))"
   ]
  },
  {
   "cell_type": "code",
   "execution_count": 44,
   "metadata": {},
   "outputs": [
    {
     "name": "stdout",
     "output_type": "stream",
     "text": [
      "True\n"
     ]
    }
   ],
   "source": [
    "def\tprob15(M):\n",
    "    assert (isinstance(M, list) and (len(M) == 5))\n",
    "    for\ti in range(-1,\t3):\n",
    "        assert M[i] == M[i-1] + i\n",
    "    return sum(M) == 15\n",
    "\n",
    "print(prob15([2,3,5,3,2]))"
   ]
  }
 ],
 "metadata": {
  "kernelspec": {
   "display_name": "Python 3",
   "language": "python",
   "name": "python3"
  },
  "language_info": {
   "codemirror_mode": {
    "name": "ipython",
    "version": 3
   },
   "file_extension": ".py",
   "mimetype": "text/x-python",
   "name": "python",
   "nbconvert_exporter": "python",
   "pygments_lexer": "ipython3",
   "version": "3.10.5 (tags/v3.10.5:f377153, Jun  6 2022, 16:14:13) [MSC v.1929 64 bit (AMD64)]"
  },
  "orig_nbformat": 4,
  "vscode": {
   "interpreter": {
    "hash": "63963b3f4c440940f0b94a3100916033a226cb4f45979123153792d60aa56d6a"
   }
  }
 },
 "nbformat": 4,
 "nbformat_minor": 2
}
