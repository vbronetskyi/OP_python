{
 "cells": [
  {
   "cell_type": "code",
   "execution_count": 2,
   "metadata": {},
   "outputs": [],
   "source": [
    "import pandas as pd\n",
    "import numpy as np"
   ]
  },
  {
   "cell_type": "code",
   "execution_count": 7,
   "metadata": {},
   "outputs": [
    {
     "name": "stdout",
     "output_type": "stream",
     "text": [
      "   SUMLEV  REGION  DIVISION\n",
      "0      40       3         6\n",
      "1      50       3         6\n"
     ]
    }
   ],
   "source": [
    "def read_data(f_csv):\n",
    "    text_f = pd.read_csv(f_csv)\n",
    "    return text_f\n",
    "print(read_data(\"census.csv\")[:2][['SUMLEV', 'REGION', 'DIVISION']])\n"
   ]
  },
  {
   "cell_type": "code",
   "execution_count": 10,
   "metadata": {},
   "outputs": [
    {
     "data": {
      "text/plain": [
       "'Texas'"
      ]
     },
     "execution_count": 10,
     "metadata": {},
     "output_type": "execute_result"
    }
   ],
   "source": [
    "def max_counties(f_csv):\n",
    "    return f_csv['STNAME'].value_counts().index[0]\n",
    "max_counties(read_data(\"census.csv\"))"
   ]
  },
  {
   "cell_type": "code",
   "execution_count": 13,
   "metadata": {},
   "outputs": [
    {
     "data": {
      "text/plain": [
       "0      -15947\n",
       "1        -593\n",
       "2       -3466\n",
       "3         115\n",
       "4         128\n",
       "        ...  \n",
       "3188     -448\n",
       "3189     -185\n",
       "3190      190\n",
       "3191       76\n",
       "3192       67\n",
       "Length: 3193, dtype: int64"
      ]
     },
     "execution_count": 13,
     "metadata": {},
     "output_type": "execute_result"
    }
   ],
   "source": [
    "def max_difference(f_csv):\n",
    "   f_csv = (f_csv[\"POPESTIMATE2010\"] - f_csv[\"POPESTIMATE2011\"])\n",
    "   return f_csv\n",
    "max_difference(read_data(\"census.csv\"))"
   ]
  },
  {
   "cell_type": "code",
   "execution_count": 16,
   "metadata": {},
   "outputs": [
    {
     "data": {
      "text/html": [
       "<div>\n",
       "<style scoped>\n",
       "    .dataframe tbody tr th:only-of-type {\n",
       "        vertical-align: middle;\n",
       "    }\n",
       "\n",
       "    .dataframe tbody tr th {\n",
       "        vertical-align: top;\n",
       "    }\n",
       "\n",
       "    .dataframe thead th {\n",
       "        text-align: right;\n",
       "    }\n",
       "</style>\n",
       "<table border=\"1\" class=\"dataframe\">\n",
       "  <thead>\n",
       "    <tr style=\"text-align: right;\">\n",
       "      <th></th>\n",
       "      <th>CTYNAME</th>\n",
       "      <th>STNAME</th>\n",
       "      <th>REGION</th>\n",
       "    </tr>\n",
       "  </thead>\n",
       "  <tbody>\n",
       "    <tr>\n",
       "      <th>896</th>\n",
       "      <td>Washington County</td>\n",
       "      <td>Iowa</td>\n",
       "      <td>2</td>\n",
       "    </tr>\n",
       "    <tr>\n",
       "      <th>1419</th>\n",
       "      <td>Washington County</td>\n",
       "      <td>Minnesota</td>\n",
       "      <td>2</td>\n",
       "    </tr>\n",
       "    <tr>\n",
       "      <th>2345</th>\n",
       "      <td>Washington County</td>\n",
       "      <td>Pennsylvania</td>\n",
       "      <td>1</td>\n",
       "    </tr>\n",
       "    <tr>\n",
       "      <th>2355</th>\n",
       "      <td>Washington County</td>\n",
       "      <td>Rhode Island</td>\n",
       "      <td>1</td>\n",
       "    </tr>\n",
       "    <tr>\n",
       "      <th>3163</th>\n",
       "      <td>Washington County</td>\n",
       "      <td>Wisconsin</td>\n",
       "      <td>2</td>\n",
       "    </tr>\n",
       "  </tbody>\n",
       "</table>\n",
       "</div>"
      ],
      "text/plain": [
       "                CTYNAME        STNAME  REGION\n",
       "896   Washington County          Iowa       2\n",
       "1419  Washington County     Minnesota       2\n",
       "2345  Washington County  Pennsylvania       1\n",
       "2355  Washington County  Rhode Island       1\n",
       "3163  Washington County     Wisconsin       2"
      ]
     },
     "execution_count": 16,
     "metadata": {},
     "output_type": "execute_result"
    }
   ],
   "source": [
    "def conditional_counties(f_csv):\n",
    "    f_csv = f_csv[(((f_csv['REGION']) == 1) | ((f_csv['REGION']) == 2))]\n",
    "    f_csv = f_csv.drop((f_csv[(f_csv['POPESTIMATE2015']) < (f_csv['POPESTIMATE2014'])]).index)\n",
    "    f_csv = f_csv[[\"CTYNAME\", \"STNAME\", 'REGION']]\n",
    "    f_csv = f_csv[(f_csv['CTYNAME'].str.startswith('Washington'))]\n",
    "    return f_csv\n",
    "conditional_counties(read_data(\"census.csv\"))"
   ]
  }
 ],
 "metadata": {
  "kernelspec": {
   "display_name": "Python 3",
   "language": "python",
   "name": "python3"
  },
  "language_info": {
   "codemirror_mode": {
    "name": "ipython",
    "version": 3
   },
   "file_extension": ".py",
   "mimetype": "text/x-python",
   "name": "python",
   "nbconvert_exporter": "python",
   "pygments_lexer": "ipython3",
   "version": "3.10.5"
  },
  "orig_nbformat": 4,
  "vscode": {
   "interpreter": {
    "hash": "63963b3f4c440940f0b94a3100916033a226cb4f45979123153792d60aa56d6a"
   }
  }
 },
 "nbformat": 4,
 "nbformat_minor": 2
}
